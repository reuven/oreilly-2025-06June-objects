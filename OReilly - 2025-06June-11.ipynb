{
 "cells": [
  {
   "cell_type": "markdown",
   "metadata": {},
   "source": [
    "# Agenda\n",
    "\n",
    "1. Intro to objects\n",
    "    - What are objects?\n",
    "    - In Python, everything is an object -- so what?\n",
    "    - Creating your own data structures (in general)\n",
    "    - Creating your own classes\n",
    "    - What happens when you create a new object?\n",
    "    - Complex objects and composition\n",
    "2. Methods\n",
    "    - Using methods\n",
    "    - Writing methods\n",
    "    - The `self` parameter in methods, and what it means\n",
    "    - Other parameters and passing arguments\n",
    "\n",
    "# Tomorrow\n",
    "\n",
    "1. Magic methods\n",
    "2. Class attributes\n",
    "3. Attribute lookup (ICPO rule)\n",
    "4. Inheritance\n",
    "    - The three paradigms of method inheritance\n",
    "    - Attribute inheritance -- what it means, and how it works\n",
    "5. What are the next steps?"
   ]
  },
  {
   "cell_type": "markdown",
   "metadata": {},
   "source": [
    "# What are objects?\n",
    "\n",
    "Software is hard to write, and it's even harder to maintain.\n",
    "\n",
    "Back in the 1970s, people thought about this a *lot*. One of them is named Alan Kay. Kay thought about what was hard about programming, and how to make it easier. The problem was (and is) that software is very large and very complex. He thought that we could create software like a biological system -- systems that have many different parts, but work together. Each part is made up of cells, and there are many kinds of cells. Each kind of cell receives and sends different kinds of messages. Kay thought that if we could create software with different types of cells, each of which knew how to send and receive different kinds of messages, we could concentrate on these types of cells, and software would be easier to write and more reliable.\n",
    "\n",
    "He invented a programming language that implemented this, call Smalltalk.\n",
    "\n",
    "This was the beginning of object-oriented programming:\n",
    "\n",
    "- Instead of cells, we talk about \"objects\"\n",
    "- Instead of types of cells, we talk about \"classes\"\n",
    "- Instead of talking about sending messages, we talk about \"calling methods.\"\n",
    "\n",
    "Objectes have been around for about 50 years now. As we know, software is now easy to write, easy to maintain, very cheap, and... Today, most programming languages have some facility for working with objects, and it's kind of expected. \n",
    "\n",
    "At the end of the day, object-oriented programming is a technique for organizing your code. \n",
    "\n",
    "Do you always need to use objects? The answer is \"no.\" Python is agnostic on this -- the underlying language uses objects, but if you want to ignore them, you basically can. Some other languages, like Java, require it of you.\n",
    "\n"
   ]
  },
  {
   "cell_type": "markdown",
   "metadata": {},
   "source": [
    "# Everything is an object\n",
    "\n",
    "What does this mean? Why should I care?\n",
    "\n",
    "If we say that everything in Python is an object:\n",
    "\n",
    "- We can apply the same rules to our data structures (the ones that we create) as the built-in data types in Python.\n",
    "- It means that the same rules apply to *all* data structures, both internal and user defined -- it makes the language consistent, and easier to learn and use.\n",
    "- If we want to extend/improve the system, there's a clear framework for doing so -- using objects.\n",
    "\n",
    "Once you learn how Python works, and how it treats objects, you can use that information repeatedly in your programs."
   ]
  },
  {
   "cell_type": "markdown",
   "metadata": {},
   "source": [
    "# Jargon/vocabulary\n",
    "\n",
    "- `class` and `type` -- These words are (in Python) pretty much interchangeable. You can't swap them around in your Python program, but when we're talking about objects, you can. A class is a data type, and it's also a factory for objects of that type. If you have a string in Python, then its class is `str`, because `str` created it.\n",
    "    - `str` is a class\n",
    "    - `str` is as type\n",
    "    - `str` creates all strings in Python\n",
    "- If we want to create a new value of type `X`, then we invoke `X()`, typically with an argument that will be used as the basis for that value.\n",
    "- `instance` - when I create a new string, we could say that I have created a new *instance* of `str`. A class is a factory for creating objects, or (stated another way) an object is an instance of that factory. Everything is Python is an object, so everything is an instance of something, of some class/type. If you want to know what type of value it is, or what its class is, you can use the `type` function, which returns it.\n",
    "- `object` -- this word is way overused in the object-oriented programming world. It basically means \"a value,\" or \"a noun.\" Sometimes, when we say \"object,\" we mean, \"a value in Python.\" We can say \"that string object\" or \"that dict object.\" We can also say that `str` is a \"class object,\" or sometimes a \"factory object.\" Part of the problem (that we'll talk about tomorrow) is that the word `object` also has a specific meaning in Python -- it's the generic factory that creates all objects."
   ]
  },
  {
   "cell_type": "code",
   "execution_count": 2,
   "metadata": {},
   "outputs": [
    {
     "data": {
      "text/plain": [
       "'5'"
      ]
     },
     "execution_count": 2,
     "metadata": {},
     "output_type": "execute_result"
    }
   ],
   "source": [
    "str(5)   # we get a new string, based on the integer 5, thanks to `str`, which creates strings -- it's a string factory"
   ]
  },
  {
   "cell_type": "code",
   "execution_count": 3,
   "metadata": {},
   "outputs": [
    {
     "data": {
      "text/plain": [
       "int"
      ]
     },
     "execution_count": 3,
     "metadata": {},
     "output_type": "execute_result"
    }
   ],
   "source": [
    "type(5)  # 5 is an instance of what class?"
   ]
  },
  {
   "cell_type": "code",
   "execution_count": 4,
   "metadata": {},
   "outputs": [
    {
     "data": {
      "text/plain": [
       "str"
      ]
     },
     "execution_count": 4,
     "metadata": {},
     "output_type": "execute_result"
    }
   ],
   "source": [
    "type('5')  # '5' is an instance of what class?"
   ]
  },
  {
   "cell_type": "markdown",
   "metadata": {},
   "source": [
    "# So what? Why do we care about an object's class/type?\n",
    "\n",
    "The type/class determines its functionality:\n",
    "\n",
    "- What data does it store?\n",
    "- What methods can we invoke on it?\n",
    "- What operators can we use with it?\n",
    "- What inputs can it take, and what outputs does it provide?\n",
    "\n",
    "If a doctor knows what kind of cell they're looking at, then they know what it's supposed to do.\n",
    "\n",
    "If we see an animal, and know what kind of animal it is, we can know (roughly) what it does.\n",
    "\n",
    "We know that strings behave differently from integers, and they both behave differently from dicts. That's because they are different classes, and different classes behave differently."
   ]
  },
  {
   "cell_type": "markdown",
   "metadata": {},
   "source": [
    "# We don't really need objects!\n",
    "\n",
    "Let's see how we can set up a data structure without object-oriented programming. Then we'll see why we might want to use objects."
   ]
  },
  {
   "cell_type": "code",
   "execution_count": 5,
   "metadata": {},
   "outputs": [],
   "source": [
    "# let's create a data structure that keeps track of a person -- in this case, me!\n",
    "# I'll use a tuple with 3 elements -- one for my first name, one for my last name, and a third for my shoe size\n",
    "\n",
    "p = ('Reuven', 'Lerner', 46)"
   ]
  },
  {
   "cell_type": "code",
   "execution_count": 6,
   "metadata": {},
   "outputs": [
    {
     "data": {
      "text/plain": [
       "'Reuven'"
      ]
     },
     "execution_count": 6,
     "metadata": {},
     "output_type": "execute_result"
    }
   ],
   "source": [
    "p[0]  # get the first name"
   ]
  },
  {
   "cell_type": "code",
   "execution_count": 7,
   "metadata": {},
   "outputs": [
    {
     "data": {
      "text/plain": [
       "'Lerner'"
      ]
     },
     "execution_count": 7,
     "metadata": {},
     "output_type": "execute_result"
    }
   ],
   "source": [
    "p[1] # get the last name"
   ]
  },
  {
   "cell_type": "code",
   "execution_count": 8,
   "metadata": {},
   "outputs": [
    {
     "data": {
      "text/plain": [
       "46"
      ]
     },
     "execution_count": 8,
     "metadata": {},
     "output_type": "execute_result"
    }
   ],
   "source": [
    "p[2] # get the shoe size"
   ]
  },
  {
   "cell_type": "code",
   "execution_count": 9,
   "metadata": {},
   "outputs": [
    {
     "data": {
      "text/plain": [
       "'Reuven Lerner'"
      ]
     },
     "execution_count": 9,
     "metadata": {},
     "output_type": "execute_result"
    }
   ],
   "source": [
    "# there is nothing wrong with this!\n",
    "# but.. what if I want a string with both the first and last name\n",
    "\n",
    "f'{p[0]} {p[1]}'"
   ]
  },
  {
   "cell_type": "code",
   "execution_count": 10,
   "metadata": {},
   "outputs": [],
   "source": [
    "# if I'm going to do that a lot, then I probably want to put that in a function.\n",
    "\n",
    "def fullname(person_tuple):\n",
    "    return f'{person_tuple[0]} {person_tuple[1]}'"
   ]
  },
  {
   "cell_type": "code",
   "execution_count": 11,
   "metadata": {},
   "outputs": [
    {
     "data": {
      "text/plain": [
       "'Reuven Lerner'"
      ]
     },
     "execution_count": 11,
     "metadata": {},
     "output_type": "execute_result"
    }
   ],
   "source": [
    "fullname(p)"
   ]
  },
  {
   "cell_type": "markdown",
   "metadata": {},
   "source": [
    "# This worked! But...\n",
    "\n",
    "1. We lose the advantage of *abstraction*. I'm still thinking about a tuple containing two strings and an integer. I want to think at a higher level, about a person -- but the fact that I've got this tuple prevents that. If I can create a new data structure that concentrates on the Person aspects of this data, then I can plan, think, and maintain my software more easily.\n",
    "2. There is no guarantee that people will call `fullname` with the right kind of tuple. We could accidentally have a bug in our code that would be hard to track down.\n",
    "3. It's really annoying to think about the first name as being at index 0, and the last name as being at index 1. I'd much rather have named fields I can use to retrieve those.\n",
    "4. If we use a class, then we can enforce the number, type, and value of different attributes.\n"
   ]
  },
  {
   "cell_type": "markdown",
   "metadata": {},
   "source": [
    "# Exercise: Non-object objects\n",
    "\n",
    "1. Define a tuple containing information about a company, with fields for the company's name, its domain, and the number of employees.\n",
    "2. Write a function that expects to get that tuple, and returns a string `COMPANY in DOMAIN`.\n",
    "3. What happens if you run `type` on your tuple? What do you get?"
   ]
  },
  {
   "cell_type": "code",
   "execution_count": 12,
   "metadata": {},
   "outputs": [],
   "source": [
    "big_company = ('BigCo', 'world domination', 100_000)\n",
    "small_company = ('SmallCo', 'nanotechnology', 3)"
   ]
  },
  {
   "cell_type": "code",
   "execution_count": 13,
   "metadata": {},
   "outputs": [],
   "source": [
    "def company_info(company_tuple):\n",
    "    return f'{company_tuple[0]} in {company_tuple[1]}'"
   ]
  },
  {
   "cell_type": "code",
   "execution_count": 14,
   "metadata": {},
   "outputs": [
    {
     "data": {
      "text/plain": [
       "'BigCo in world domination'"
      ]
     },
     "execution_count": 14,
     "metadata": {},
     "output_type": "execute_result"
    }
   ],
   "source": [
    "company_info(big_company)"
   ]
  },
  {
   "cell_type": "code",
   "execution_count": 15,
   "metadata": {},
   "outputs": [
    {
     "data": {
      "text/plain": [
       "'SmallCo in nanotechnology'"
      ]
     },
     "execution_count": 15,
     "metadata": {},
     "output_type": "execute_result"
    }
   ],
   "source": [
    "company_info(small_company)"
   ]
  },
  {
   "cell_type": "code",
   "execution_count": 16,
   "metadata": {},
   "outputs": [],
   "source": [
    "# we can write a function finding the headcount\n",
    "\n",
    "def company_headcount(company_tuple):\n",
    "    return company_tuple[2]"
   ]
  },
  {
   "cell_type": "code",
   "execution_count": 17,
   "metadata": {},
   "outputs": [
    {
     "data": {
      "text/plain": [
       "100000"
      ]
     },
     "execution_count": 17,
     "metadata": {},
     "output_type": "execute_result"
    }
   ],
   "source": [
    "company_headcount(big_company)"
   ]
  },
  {
   "cell_type": "markdown",
   "metadata": {},
   "source": [
    "# What is abstraction?\n",
    "\n",
    "The idea of abstraction is that you can/should think at a higher level, and by focusing on a higher level, you can think bigger thoughts and plan bigger things. Also, through abstraction, we can communicate more easily.\n",
    "\n",
    "1. Making an omlette. By using the phrase \"making an omlette,\" I'm able to think at a higher level and communicate more efficiently. I can also say, \"I had friends over and made 5 omlettes.\" If and when I need, I can dive into a lower level and describe what kind of eggs, what kind of pan, etc. But most of the time, it's convenient to think at that higher level.\n",
    "2. Driving a car. You cannot both drive a car and think about all of the things it's doing at the same time. You think in terms of the steering wheel, brake, accelerator, etc., not all of the little things happening in the car. Imagine trying to drive when thinking those tihngs. Now imagine trying to reason about traffic patterns when thinking about those things.\n",
    "\n",
    "In engineering, we're constantly trying to go at higher levels of abstraction. We don't think about the bits on our computer, or the CPU, rather, we think in terms of ints, strings, dicts, etc. \n",
    "\n",
    "Could I manage info about a company as a tuple? Yes, but it'll be annoying.\n",
    "\n",
    "Could I manage a stock market with tuples? Yes, but it'll be hard."
   ]
  },
  {
   "cell_type": "markdown",
   "metadata": {},
   "source": [
    "# How could we define this as a class?\n",
    "\n",
    "- We would have to create a new data structure -- a new class/type\n",
    "- We would define methods (functions) that are attached to that class\n",
    "\n",
    "We would have our abstraction layer, and methods would ensure that when someone invokes them, they're being run with the right kind of data.\n",
    "\n"
   ]
  },
  {
   "cell_type": "code",
   "execution_count": 19,
   "metadata": {},
   "outputs": [
    {
     "data": {
      "text/plain": [
       "'abcd'"
      ]
     },
     "execution_count": 19,
     "metadata": {},
     "output_type": "execute_result"
    }
   ],
   "source": [
    "# most of the verbs in Python are methods, not functions\n",
    "# but there are some functions (e.g., len) that yuou have to remember\n",
    "\n",
    "s = 'aBcD'   # I created a string\n",
    "s.lower()    # I invoked a method on the string -- a method is a function that's attached to a particular class."
   ]
  },
  {
   "cell_type": "code",
   "execution_count": 20,
   "metadata": {},
   "outputs": [],
   "source": [
    "# here is a class that defines a Person\n",
    "\n",
    "class Person:                     # here, we use the word \"class\" to tell Python: We are defining a new type of data\n",
    "    def __init__(self, name):     # this is a method, that is used to initialize the object's attributes\n",
    "        self.name = name          # here, we assign the name that the user gave us to the object -- thus naming the person we've created"
   ]
  },
  {
   "cell_type": "code",
   "execution_count": 21,
   "metadata": {},
   "outputs": [],
   "source": [
    "p = Person('Reuven')     # here, I create a new Person object, named \"Reuven\""
   ]
  },
  {
   "cell_type": "code",
   "execution_count": 22,
   "metadata": {},
   "outputs": [
    {
     "data": {
      "text/plain": [
       "'Reuven'"
      ]
     },
     "execution_count": 22,
     "metadata": {},
     "output_type": "execute_result"
    }
   ],
   "source": [
    "p.name   # what is the name of this person?"
   ]
  },
  {
   "cell_type": "markdown",
   "metadata": {},
   "source": [
    "# Next up\n",
    "\n",
    "- What really happens when we create a class?\n",
    "- What really happens when we create a new object using that class?\n",
    "- See how we can translate non-object Python into object Python"
   ]
  },
  {
   "cell_type": "markdown",
   "metadata": {},
   "source": [
    "# What happened in our class definition?\n",
    "\n",
    "First of all, whenever we want to solve a problem with object-oriented programming, we create a new data structure. That allows us to think at a higher level, and also to compartmentalize the problem.\n",
    "\n",
    "- We use the `class` keyword to create a new data structure. (You cannot use `type` here, even though we talk about them as being the same thing.)\n",
    "- Then we name our class, typically using CamelCase -- with an initial capital letter, and internal capitals if you need\n",
    "- We have a colon at the end of the line, indicating that we'll then have a block for the class definition.\n",
    "- Anything inside of the class body is part of the class definition\n",
    "- In the class body, we can use `def` to define a new function. Except that here, it's not a function, but rather a *method*. You can think of a method (mostly) as a function defined inside of a class.\n",
    "- The most important method is called `__init__` (pronounced \"dunder-init,\" meaning \"double underscore, init\") This method is almost never invoked by us explicitly. Rather, this is the method that Python will invoke after creating our new object, but before returning it to the caller. In other words, this method assume that the new, \"naked\" object exists, but it needs some initialization."
   ]
  },
  {
   "cell_type": "code",
   "execution_count": 23,
   "metadata": {},
   "outputs": [
    {
     "data": {
      "text/plain": [
       "__main__.Person"
      ]
     },
     "execution_count": 23,
     "metadata": {},
     "output_type": "execute_result"
    }
   ],
   "source": [
    "p = Person('Reuven')\n",
    "\n",
    "type(p)  # what kind of object do I have?"
   ]
  },
  {
   "cell_type": "markdown",
   "metadata": {},
   "source": [
    "We can say:\n",
    "\n",
    "- `p` is an instance of `Person`\n",
    "- `Person` is `p`'s class"
   ]
  },
  {
   "cell_type": "code",
   "execution_count": 24,
   "metadata": {},
   "outputs": [
    {
     "data": {
      "text/plain": [
       "'Reuven'"
      ]
     },
     "execution_count": 24,
     "metadata": {},
     "output_type": "execute_result"
    }
   ],
   "source": [
    "p.name"
   ]
  },
  {
   "cell_type": "markdown",
   "metadata": {},
   "source": [
    "# Attributes\n",
    "\n",
    "Everything in Python is an object.\n",
    "\n",
    "And every object in Python has a class. \n",
    "\n",
    "But every object in Python also has one or more *attributes*. These are a private storage area for that object, and that object alone. You can retrieve an attribute from an object with `x.y`, where `x` is the object and `y` is the name of the attribute.\n",
    "\n",
    "Every single value in Python has attributes. You can set them, you can retrieve them."
   ]
  },
  {
   "cell_type": "markdown",
   "metadata": {},
   "source": [
    "# What really happened here?\n",
    "\n",
    "When I created a new instance of `Person`, what really happened?\n",
    "\n",
    "1. I invoked `Person`, giving it the string `'Reuven'` as an argument.\n",
    "2. Python created a new instance of `Person`.\n",
    "3. That instance of `Person`, along with `'Reuven'`, was passed along to `__init__`, whose `name` parameter got that value assigned to it.\n",
    "4. `__init__` then assigned the value of `name` to the attribute `self.name`.\n",
    "    - `self` is the newly created object -- the thing that we created in step 2.\n",
    "    - `__init__` is run after the new object is created, but before it has been returned to the caller.\n",
    "    - That means `__init__` is in this in-between state, before the rest of the world has access to the object, but after it is created.\n",
    "    - We use that time to assign one or more attributes to our new object. In fact, that is `__init__`'s job! It assigns attributes to the new object\n",
    "    - There is no other way to refer the object, other than `self`, because it doesn't have any other name.\n",
    "\n",
    "This all is meant to say: We create a new instance of `Person`, and it gets a `name` attribute assigned to it, whose value is whatever we passed to `Person`.\n"
   ]
  },
  {
   "cell_type": "markdown",
   "metadata": {},
   "source": [
    "# What in the world is `self`?\n",
    "\n",
    "In all OO programming languages, we need a way to refer to \"the current object,\" or \"the current instance.\" In many languages, they have a word like `this` that magically always refers to it.\n",
    "\n",
    "There is no such magic in Python. Instead, we have a parameter, `self`, in EVERY SINGLE METHOD. It is always the first parameter, and while we could call it something else, everyone calls it `self`.\n",
    "\n",
    "When we define a method, we must set the first parameter to be `self`, and it'll be populated with the current instance by Python.\n",
    "\n",
    "We can then set attributes on it, and retrieve attributes from it."
   ]
  },
  {
   "cell_type": "markdown",
   "metadata": {},
   "source": [
    "# What is `__init__`, really?\n",
    "\n",
    "Many people with OO experience in other languages call `__init__` the *constructor method*, thinking that it creates a new object. IT DOES NOT.\n",
    "\n",
    "`__init__` is invoked after the new object is created, and gives us a chance to set whatever attributes we want.\n",
    "\n",
    "Could we set attributes on an object later? YES! But Python automatically invokes `__init__`, and so this gives us a chance to standardize our object, and make sure they all have the same attributes defined."
   ]
  },
  {
   "cell_type": "code",
   "execution_count": 25,
   "metadata": {},
   "outputs": [],
   "source": [
    "# 1. I invoked Person('abcde')\n",
    "# 2. This means that Python creates a new Person\n",
    "# 3. Python invokes __init__, passing the new object to self and 'abcde' to name\n",
    "# 4. __init__ assigns the string 'abcde' to self.name\n",
    "# 5. When __init__ is done assigning, we get the new object back\n",
    "\n",
    "p = Person('abcde')  "
   ]
  },
  {
   "cell_type": "code",
   "execution_count": 26,
   "metadata": {},
   "outputs": [
    {
     "name": "stdout",
     "output_type": "stream",
     "text": [
      "Help on method_descriptor:\n",
      "\n",
      "append(self, object, /) unbound builtins.list method\n",
      "    Append object to the end of the list.\n",
      "\n"
     ]
    }
   ],
   "source": [
    "# does self exist elsewhere?\n",
    "\n",
    "help(list.append)"
   ]
  },
  {
   "cell_type": "code",
   "execution_count": 27,
   "metadata": {},
   "outputs": [
    {
     "name": "stdout",
     "output_type": "stream",
     "text": [
      "Help on method_descriptor:\n",
      "\n",
      "items(self, /) unbound builtins.dict method\n",
      "    Return a set-like object providing a view on the dict's items.\n",
      "\n"
     ]
    }
   ],
   "source": [
    "help(dict.items)"
   ]
  },
  {
   "cell_type": "code",
   "execution_count": 28,
   "metadata": {},
   "outputs": [
    {
     "data": {
      "text/plain": [
       "'abcd efgh'"
      ]
     },
     "execution_count": 28,
     "metadata": {},
     "output_type": "execute_result"
    }
   ],
   "source": [
    "s = 'aBcD eFgH'\n",
    "s.lower()"
   ]
  },
  {
   "cell_type": "code",
   "execution_count": 30,
   "metadata": {},
   "outputs": [
    {
     "name": "stdout",
     "output_type": "stream",
     "text": [
      "Help on method_descriptor:\n",
      "\n",
      "lower(self, /) unbound builtins.str method\n",
      "    Return a copy of the string converted to lowercase.\n",
      "\n"
     ]
    }
   ],
   "source": [
    "help(str.lower)"
   ]
  },
  {
   "cell_type": "code",
   "execution_count": null,
   "metadata": {},
   "outputs": [],
   "source": [
    "str.lower(s)   # this is the same as saying s.lower()"
   ]
  },
  {
   "cell_type": "markdown",
   "metadata": {},
   "source": [
    "In programming, we like to distinguish between\n",
    "\n",
    "- The implementation -- how is it built?\n",
    "- The interface -- how does it look to the outside world?"
   ]
  },
  {
   "cell_type": "code",
   "execution_count": 31,
   "metadata": {},
   "outputs": [],
   "source": [
    "d = dict(a=10, b=20, c=30)"
   ]
  },
  {
   "cell_type": "markdown",
   "metadata": {},
   "source": [
    "# `object` -- what it means\n",
    "\n",
    "`object` is a very generic term. It can mean:\n",
    "\n",
    "- A value -- \"this object does...\"\n",
    "- An instance of a class -- \"this string object...\"\n",
    "- The most generic class in Python -- \"this is implemented on `object`\""
   ]
  },
  {
   "cell_type": "code",
   "execution_count": 33,
   "metadata": {},
   "outputs": [],
   "source": [
    "# let's re-implmement Person to take *three*\n",
    "\n",
    "class Person:\n",
    "    def __init__(self, firstname, lastname, shoesize): \n",
    "        # firstname, lastname, and shoesize are parameters -- local variables that'll go away when the method exits\n",
    "        # by assigning three attributes to self (i.e., the object), they stick around on the object after the method exits\n",
    "        self.firstname = firstname\n",
    "        self.lastname = lastname\n",
    "        self.shoesize = shoesize"
   ]
  },
  {
   "cell_type": "code",
   "execution_count": 34,
   "metadata": {},
   "outputs": [],
   "source": [
    "p = Person('Reuven', 'Lerner' ,46)  # this is the object-oriented version of the tuple we built earlier!"
   ]
  },
  {
   "cell_type": "code",
   "execution_count": 35,
   "metadata": {},
   "outputs": [
    {
     "data": {
      "text/plain": [
       "'Reuven'"
      ]
     },
     "execution_count": 35,
     "metadata": {},
     "output_type": "execute_result"
    }
   ],
   "source": [
    "p.firstname"
   ]
  },
  {
   "cell_type": "code",
   "execution_count": 36,
   "metadata": {},
   "outputs": [
    {
     "data": {
      "text/plain": [
       "'Lerner'"
      ]
     },
     "execution_count": 36,
     "metadata": {},
     "output_type": "execute_result"
    }
   ],
   "source": [
    "p.lastname"
   ]
  },
  {
   "cell_type": "code",
   "execution_count": 37,
   "metadata": {},
   "outputs": [
    {
     "data": {
      "text/plain": [
       "46"
      ]
     },
     "execution_count": 37,
     "metadata": {},
     "output_type": "execute_result"
    }
   ],
   "source": [
    "p.shoesize"
   ]
  },
  {
   "cell_type": "markdown",
   "metadata": {},
   "source": [
    "# Exercise: Company class\n",
    "\n",
    "1. Re-implement what we did before for a company, but do it now in a class called `Company`.\n",
    "2. Each instance will have three attributes -- `name`, `domain`, and `headcount`.\n",
    "3. Create two instances of `Company`, each with its own name, domain, and headcount.\n",
    "4. Don't worry about any methods; we'll get to those soon."
   ]
  },
  {
   "cell_type": "code",
   "execution_count": 38,
   "metadata": {},
   "outputs": [],
   "source": [
    "class Company:\n",
    "    def __init__(self, name, domain, size):\n",
    "        self.name = name\n",
    "        self.domain = domain\n",
    "        self.size = size\n",
    "\n",
    "small_co = Company('SmallCo', 'nanotech', 3)\n",
    "big_co = Company('BigCo', 'big egos', 100_000)\n",
    "        "
   ]
  },
  {
   "cell_type": "code",
   "execution_count": 39,
   "metadata": {},
   "outputs": [
    {
     "data": {
      "text/plain": [
       "'SmallCo'"
      ]
     },
     "execution_count": 39,
     "metadata": {},
     "output_type": "execute_result"
    }
   ],
   "source": [
    "small_co.name"
   ]
  },
  {
   "cell_type": "code",
   "execution_count": 40,
   "metadata": {},
   "outputs": [
    {
     "data": {
      "text/plain": [
       "'nanotech'"
      ]
     },
     "execution_count": 40,
     "metadata": {},
     "output_type": "execute_result"
    }
   ],
   "source": [
    "small_co.domain"
   ]
  },
  {
   "cell_type": "code",
   "execution_count": 41,
   "metadata": {},
   "outputs": [
    {
     "data": {
      "text/plain": [
       "3"
      ]
     },
     "execution_count": 41,
     "metadata": {},
     "output_type": "execute_result"
    }
   ],
   "source": [
    "small_co.size"
   ]
  },
  {
   "cell_type": "code",
   "execution_count": 42,
   "metadata": {},
   "outputs": [
    {
     "data": {
      "text/plain": [
       "'BigCo'"
      ]
     },
     "execution_count": 42,
     "metadata": {},
     "output_type": "execute_result"
    }
   ],
   "source": [
    "big_co.name"
   ]
  },
  {
   "cell_type": "markdown",
   "metadata": {},
   "source": [
    "I created:\n",
    "\n",
    "- A `Company` class, a factory for creating new `Company` objects\n",
    "- I also created two instances of `Company`, each of which represents a company"
   ]
  },
  {
   "cell_type": "markdown",
   "metadata": {},
   "source": [
    "# The story so far\n",
    "\n",
    "- If you want to solve problems with objects, you'll create one or more new classes. Each is a data structure that helps you think about and solve the problem.\n",
    "- If you want to assign one or more attributes to the object when it is initialized, put those assignments into `__init__`\n",
    "- In all methods (although we've only seen `__init__` so far), `self` is the first parameter. It contains the instance on which we're working.\n",
    "- The job of `__init__` is to assign attributes\n",
    "- `__init__` returns `None` automatically; no one cares or looks at what it returns\n",
    "- Usually, the attributes assigned will have the same names as the parameters in `__init__`... but you don't have to do that."
   ]
  },
  {
   "cell_type": "markdown",
   "metadata": {},
   "source": [
    "# Writing methods\n",
    "\n",
    "I earlier said that when you define a function inside of the class body, it's a method. And every method needs to have `self` as the first parameter.\n",
    "\n",
    "Other than that, there are basically no restrictions or rules regarding methods. Everything you know about Python functions is also true about methods, except for the `self` parameter.\n",
    "\n",
    "The advantage of a method is that we know that it'll only be invoked on instances of our class."
   ]
  },
  {
   "cell_type": "code",
   "execution_count": 43,
   "metadata": {},
   "outputs": [],
   "source": [
    "class Person:\n",
    "    def __init__(self, firstname, lastname, shoesize): \n",
    "        self.firstname = firstname\n",
    "        self.lastname = lastname\n",
    "        self.shoesize = shoesize\n",
    "    def fullname(self):\n",
    "        return f'{self.firstname} {self.lastname}'"
   ]
  },
  {
   "cell_type": "code",
   "execution_count": 44,
   "metadata": {},
   "outputs": [
    {
     "data": {
      "text/plain": [
       "'Reuven Lerner'"
      ]
     },
     "execution_count": 44,
     "metadata": {},
     "output_type": "execute_result"
    }
   ],
   "source": [
    "p = Person('Reuven', 'Lerner', 46)\n",
    "\n",
    "p.fullname()"
   ]
  },
  {
   "cell_type": "markdown",
   "metadata": {},
   "source": [
    "# Exercise: Company method\n",
    "\n",
    "Modify your `Company` class, such that it has a method, `description`. That should return a string, something like what our function did way back when, the company name + the company domain.\n",
    "\n",
    "Example:\n",
    "\n",
    "    big_co.description()    # will return 'BigCo does megalomania'"
   ]
  },
  {
   "cell_type": "code",
   "execution_count": 45,
   "metadata": {},
   "outputs": [
    {
     "data": {
      "text/plain": [
       "'Reuven Lerner'"
      ]
     },
     "execution_count": 45,
     "metadata": {},
     "output_type": "execute_result"
    }
   ],
   "source": [
    "p.fullname()"
   ]
  },
  {
   "cell_type": "code",
   "execution_count": 46,
   "metadata": {},
   "outputs": [
    {
     "data": {
      "text/plain": [
       "<bound method Person.fullname of <__main__.Person object at 0x10ffb6660>>"
      ]
     },
     "execution_count": 46,
     "metadata": {},
     "output_type": "execute_result"
    }
   ],
   "source": [
    "p.fullname"
   ]
  },
  {
   "cell_type": "code",
   "execution_count": 47,
   "metadata": {},
   "outputs": [],
   "source": [
    "class Company:\n",
    "    def __init__(self, name, domain, size):\n",
    "        self.name = name\n",
    "        self.domain = domain\n",
    "        self.size = size\n",
    "    def description(self):\n",
    "        return f'{self.name} is in the {self.domain} business.'\n",
    "\n",
    "small_co = Company('SmallCo', 'nanotech', 3)\n",
    "big_co = Company('BigCo', 'big egos', 100_000)\n",
    "        "
   ]
  },
  {
   "cell_type": "code",
   "execution_count": 48,
   "metadata": {},
   "outputs": [
    {
     "data": {
      "text/plain": [
       "'SmallCo is in the nanotech business.'"
      ]
     },
     "execution_count": 48,
     "metadata": {},
     "output_type": "execute_result"
    }
   ],
   "source": [
    "small_co.description()"
   ]
  },
  {
   "cell_type": "code",
   "execution_count": 49,
   "metadata": {},
   "outputs": [
    {
     "data": {
      "text/plain": [
       "'BigCo is in the big egos business.'"
      ]
     },
     "execution_count": 49,
     "metadata": {},
     "output_type": "execute_result"
    }
   ],
   "source": [
    "big_co.description()"
   ]
  },
  {
   "cell_type": "markdown",
   "metadata": {},
   "source": [
    "# What happens when I invoke `big_co.description()`?\n",
    "\n",
    "- We invoke `big_co.description()`\n",
    "- This is silently rewritten behind the scenes to be `Company.description(big_co)`\n",
    "- Because `big_co` is now the first argument, we can see why/how it's assigned to `self`\n",
    "- The method then runs as per a usual function, with `self` referring to our instance\n",
    "- In `description`, we can then retrieve any of the instance's attributes via `self.ATTRNAME`.\n",
    "- We can then print, iterate, etc., whatever we want, and then return the values we want."
   ]
  },
  {
   "cell_type": "code",
   "execution_count": 50,
   "metadata": {
    "jupyter": {
     "source_hidden": true
    }
   },
   "outputs": [
    {
     "data": {
      "text/plain": [
       "'BigCo is in the big egos business.'"
      ]
     },
     "execution_count": 50,
     "metadata": {},
     "output_type": "execute_result"
    }
   ],
   "source": [
    "Company.description(big_co)"
   ]
  },
  {
   "cell_type": "code",
   "execution_count": 51,
   "metadata": {},
   "outputs": [
    {
     "data": {
      "text/plain": [
       "'aBcD eFgH'"
      ]
     },
     "execution_count": 51,
     "metadata": {},
     "output_type": "execute_result"
    }
   ],
   "source": [
    "s"
   ]
  },
  {
   "cell_type": "code",
   "execution_count": 52,
   "metadata": {},
   "outputs": [
    {
     "data": {
      "text/plain": [
       "'abcd efgh'"
      ]
     },
     "execution_count": 52,
     "metadata": {},
     "output_type": "execute_result"
    }
   ],
   "source": [
    "s.lower()"
   ]
  },
  {
   "cell_type": "code",
   "execution_count": 53,
   "metadata": {},
   "outputs": [
    {
     "data": {
      "text/plain": [
       "'abcd efgh'"
      ]
     },
     "execution_count": 53,
     "metadata": {},
     "output_type": "execute_result"
    }
   ],
   "source": [
    "str.lower(s)"
   ]
  },
  {
   "cell_type": "markdown",
   "metadata": {},
   "source": [
    "# Next up\n",
    "\n",
    "1. Setting and retrieving attributes\n",
    "2. More methods\n",
    "3. Getters and setters (or not)"
   ]
  },
  {
   "cell_type": "markdown",
   "metadata": {},
   "source": [
    "# Some questions\n",
    "\n",
    "## 1. Do we need `__init__` in our class definition?\n",
    "\n",
    "Answer: Only if we have attributes we'll want to store on our object.\n",
    "\n",
    "It's rare for this to be the case, but it does exist.  Most of the time, when you define a class, you're going to have one or more attributes that you'll want to set. You do that in `__init__`.\n",
    "\n",
    "## 2. Another question people ask is: Do we need to define all of a class's attributes in `__init__`?\n",
    "\n",
    "Answer: No. But you really want to.\n",
    "\n",
    "Anyone can set/retrieve any attribute they want, on any object, whenever they want. In theory, there's no advantage to defining all of the attributes in `__init__`. Why do that earlier than you need?\n",
    "\n",
    "Remember that someone, somewhere, and sometime, will want to maintain your class. (Maybe even you!) By putting all of the attribute initialization inside of `__init__`, there will be one place for them to go and find all of those attribute names.\n",
    "\n",
    "## 3. What about instance variables? Or fields?\n",
    "\n",
    "If you've use objects in other languages, then you've probably heard them refer to \"instance variables\" or \"fields.\" In Python, we can sometimes refer to attributes as one or both of those. They're basically the same thing. But in Python, we use the term \"attribute\" because it more accurately describes what's going on, and because it has some implications for understanding how objects work under the hood.\n",
    "\n"
   ]
  },
  {
   "cell_type": "code",
   "execution_count": 54,
   "metadata": {},
   "outputs": [
    {
     "data": {
      "text/plain": [
       "<__main__.Person at 0x10ffb6660>"
      ]
     },
     "execution_count": 54,
     "metadata": {},
     "output_type": "execute_result"
    }
   ],
   "source": [
    "p"
   ]
  },
  {
   "cell_type": "code",
   "execution_count": 58,
   "metadata": {},
   "outputs": [],
   "source": [
    "class Person:\n",
    "    def __init__(self, firstname, lastname, shoesize): \n",
    "        self.firstname = firstname\n",
    "        self.lastname = lastname\n",
    "        self.shoesize = shoesize\n",
    "    def fullname(self):\n",
    "        return f'{self.firstname} {self.lastname}'\n",
    "    def greet(self):\n",
    "        return f'Hello, {self.firstname}!'\n",
    "    def initials(self):\n",
    "        return f'{self.firstname[0]}{self.lastname[0]}'\n",
    "\n",
    "p = Person('Reuven', 'Lerner', 46)        "
   ]
  },
  {
   "cell_type": "code",
   "execution_count": 59,
   "metadata": {},
   "outputs": [
    {
     "data": {
      "text/plain": [
       "'Hello, Reuven!'"
      ]
     },
     "execution_count": 59,
     "metadata": {},
     "output_type": "execute_result"
    }
   ],
   "source": [
    "p.greet()"
   ]
  },
  {
   "cell_type": "code",
   "execution_count": 60,
   "metadata": {},
   "outputs": [
    {
     "data": {
      "text/plain": [
       "'RL'"
      ]
     },
     "execution_count": 60,
     "metadata": {},
     "output_type": "execute_result"
    }
   ],
   "source": [
    "p.initials()"
   ]
  },
  {
   "cell_type": "markdown",
   "metadata": {},
   "source": [
    "# Getters and setters\n",
    "\n",
    "In many object-oriented programming languages, it's traditional to write two special kinds of methods:\n",
    "\n",
    "- \"Accessors,\" but everyone calls them \"getters\" -- these retrieve the value of an attribute\n",
    "- \"Mutators,\" but everyone calls them \"setters\" -- these modify/update the value of an attribute\n",
    "\n",
    "You can, of course, define getters and setters in Python!"
   ]
  },
  {
   "cell_type": "code",
   "execution_count": 62,
   "metadata": {},
   "outputs": [
    {
     "name": "stdout",
     "output_type": "stream",
     "text": [
      "new-firstname\n",
      "new-lastname\n",
      "40\n"
     ]
    }
   ],
   "source": [
    "class Person:\n",
    "    def __init__(self, firstname, lastname, shoesize): \n",
    "        self.firstname = firstname\n",
    "        self.lastname = lastname\n",
    "        self.shoesize = shoesize\n",
    "    def fullname(self):\n",
    "        return f'{self.firstname} {self.lastname}'\n",
    "\n",
    "    def get_firstname(self):\n",
    "        return self.firstname\n",
    "    def get_lastname(self):\n",
    "        return self.lastname\n",
    "    def get_shoesize(self):\n",
    "        return self.shoesize\n",
    "\n",
    "    def set_firstname(self, new_firstname):\n",
    "        self.firstname = new_firstname\n",
    "    def set_lastname(self, new_lastname):\n",
    "        self.lastname = new_lastname\n",
    "    def set_shoesize(self, new_shoesize):\n",
    "        self.shoesize = new_shoesize\n",
    "    \n",
    "p = Person('Reuven', 'Lerner', 46)        \n",
    "p.set_firstname('new-firstname')\n",
    "p.set_lastname('new-lastname')\n",
    "p.set_shoesize(40)\n",
    "\n",
    "print(p.get_firstname())\n",
    "print(p.get_lastname())\n",
    "print(p.get_shoesize())\n",
    "\n"
   ]
  },
  {
   "cell_type": "markdown",
   "metadata": {},
   "source": [
    "# Getters and setters\n",
    "\n",
    "People who use other programming languages *LOVE* getters and setters!\n",
    "\n",
    "- In some languages, they're mandatory\n",
    "- In others, they're just recommended\n",
    "\n",
    "Why?\n",
    "\n",
    "- The outside world might not have access to the instance variables (i.e., the attributes)\n",
    "- We might have some protection on them, such that only specific parts of the code can read/write them\n",
    "- We might want to discourage people from reading/writing them\n",
    "- We might want to keep a clear distance between the interface and implementation\n",
    "\n",
    "And as we see here, we *could* write getters and setters in Python.\n",
    "\n",
    "But we almost never do. That's because we can retrieve and set attributes whenever we want, wherever we want.\n",
    "\n",
    "Python has no equivalent to the \"private\" and \"protected\" security features of other languages. All attributes are public! Anyone can read/write them! And so the idea of keeping them behind getters/setters seems silly."
   ]
  },
  {
   "cell_type": "code",
   "execution_count": 64,
   "metadata": {},
   "outputs": [
    {
     "name": "stdout",
     "output_type": "stream",
     "text": [
      "new-firstname\n",
      "new-lastname\n",
      "40\n"
     ]
    }
   ],
   "source": [
    "# let's rewrite our getter- and setter-heavy class from before\n",
    "\n",
    "class Person:\n",
    "    def __init__(self, firstname, lastname, shoesize): \n",
    "        self.firstname = firstname\n",
    "        self.lastname = lastname\n",
    "        self.shoesize = shoesize\n",
    "    def fullname(self):\n",
    "        return f'{self.firstname} {self.lastname}'\n",
    "\n",
    "p = Person('Reuven', 'Lerner', 46)        \n",
    "p.firstname = 'new-firstname'\n",
    "p.lastname = 'new-lastname'\n",
    "p.shoesize = 40\n",
    "\n",
    "print(p.firstname)\n",
    "print(p.lastname)\n",
    "print(p.shoesize)"
   ]
  },
  {
   "cell_type": "code",
   "execution_count": null,
   "metadata": {},
   "outputs": [],
   "source": []
  }
 ],
 "metadata": {
  "kernelspec": {
   "display_name": "Python 3 (ipykernel)",
   "language": "python",
   "name": "python3"
  },
  "language_info": {
   "codemirror_mode": {
    "name": "ipython",
    "version": 3
   },
   "file_extension": ".py",
   "mimetype": "text/x-python",
   "name": "python",
   "nbconvert_exporter": "python",
   "pygments_lexer": "ipython3",
   "version": "3.13.2"
  }
 },
 "nbformat": 4,
 "nbformat_minor": 4
}
