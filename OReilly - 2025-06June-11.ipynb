{
 "cells": [
  {
   "cell_type": "markdown",
   "metadata": {},
   "source": [
    "# Agenda\n",
    "\n",
    "1. Intro to objects\n",
    "    - What are objects?\n",
    "    - In Python, everything is an object -- so what?\n",
    "    - Creating your own data structures (in general)\n",
    "    - Creating your own classes\n",
    "    - What happens when you create a new object?\n",
    "    - Complex objects and composition\n",
    "2. Methods\n",
    "    - Using methods\n",
    "    - Writing methods\n",
    "    - The `self` parameter in methods, and what it means\n",
    "    - Other parameters and passing arguments\n",
    "\n",
    "# Tomorrow\n",
    "\n",
    "1. Magic methods\n",
    "2. Class attributes\n",
    "3. Attribute lookup (ICPO rule)\n",
    "4. Inheritance\n",
    "    - The three paradigms of method inheritance\n",
    "    - Attribute inheritance -- what it means, and how it works\n",
    "5. What are the next steps?"
   ]
  },
  {
   "cell_type": "markdown",
   "metadata": {},
   "source": [
    "# What are objects?\n",
    "\n",
    "Software is hard to write, and it's even harder to maintain.\n",
    "\n",
    "Back in the 1970s, people thought about this a *lot*. One of them is named Alan Kay. Kay thought about what was hard about programming, and how to make it easier. The problem was (and is) that software is very large and very complex. He thought that we could create software like a biological system -- systems that have many different parts, but work together. Each part is made up of cells, and there are many kinds of cells. Each kind of cell receives and sends different kinds of messages. Kay thought that if we could create software with different types of cells, each of which knew how to send and receive different kinds of messages, we could concentrate on these types of cells, and software would be easier to write and more reliable.\n",
    "\n",
    "He invented a programming language that implemented this, call Smalltalk.\n",
    "\n",
    "This was the beginning of object-oriented programming:\n",
    "\n",
    "- Instead of cells, we talk about \"objects\"\n",
    "- Instead of types of cells, we talk about \"classes\"\n",
    "- Instead of talking about sending messages, we talk about \"calling methods.\"\n",
    "\n",
    "Objectes have been around for about 50 years now. As we know, software is now easy to write, easy to maintain, very cheap, and... Today, most programming languages have some facility for working with objects, and it's kind of expected. \n",
    "\n",
    "At the end of the day, object-oriented programming is a technique for organizing your code. \n",
    "\n",
    "Do you always need to use objects? The answer is \"no.\" Python is agnostic on this -- the underlying language uses objects, but if you want to ignore them, you basically can. Some other languages, like Java, require it of you.\n",
    "\n"
   ]
  },
  {
   "cell_type": "markdown",
   "metadata": {},
   "source": [
    "# Everything is an object\n",
    "\n",
    "What does this mean? Why should I care?\n",
    "\n",
    "If we say that everything in Python is an object:\n",
    "\n",
    "- We can apply the same rules to our data structures (the ones that we create) as the built-in data types in Python.\n",
    "- It means that the same rules apply to *all* data structures, both internal and user defined -- it makes the language consistent, and easier to learn and use.\n",
    "- If we want to extend/improve the system, there's a clear framework for doing so -- using objects.\n",
    "\n",
    "Once you learn how Python works, and how it treats objects, you can use that information repeatedly in your programs."
   ]
  },
  {
   "cell_type": "markdown",
   "metadata": {},
   "source": [
    "# Jargon/vocabulary\n",
    "\n",
    "- `class` and `type` -- These words are (in Python) pretty much interchangeable. You can't swap them around in your Python program, but when we're talking about objects, you can. A class is a data type, and it's also a factory for objects of that type. If you have a string in Python, then its class is `str`, because `str` created it.\n",
    "    - `str` is a class\n",
    "    - `str` is as type\n",
    "    - `str` creates all strings in Python\n",
    "- If we want to create a new value of type `X`, then we invoke `X()`, typically with an argument that will be used as the basis for that value.\n",
    "- `instance` - when I create a new string, we could say that I have created a new *instance* of `str`. A class is a factory for creating objects, or (stated another way) an object is an instance of that factory. Everything is Python is an object, so everything is an instance of something, of some class/type. If you want to know what type of value it is, or what its class is, you can use the `type` function, which returns it.\n",
    "- `object` -- this word is way overused in the object-oriented programming world. It basically means \"a value,\" or \"a noun.\" Sometimes, when we say \"object,\" we mean, \"a value in Python.\" We can say \"that string object\" or \"that dict object.\" We can also say that `str` is a \"class object,\" or sometimes a \"factory object.\" Part of the problem (that we'll talk about tomorrow) is that the word `object` also has a specific meaning in Python -- it's the generic factory that creates all objects."
   ]
  },
  {
   "cell_type": "code",
   "execution_count": 2,
   "metadata": {},
   "outputs": [
    {
     "data": {
      "text/plain": [
       "'5'"
      ]
     },
     "execution_count": 2,
     "metadata": {},
     "output_type": "execute_result"
    }
   ],
   "source": [
    "str(5)   # we get a new string, based on the integer 5, thanks to `str`, which creates strings -- it's a string factory"
   ]
  },
  {
   "cell_type": "code",
   "execution_count": 3,
   "metadata": {},
   "outputs": [
    {
     "data": {
      "text/plain": [
       "int"
      ]
     },
     "execution_count": 3,
     "metadata": {},
     "output_type": "execute_result"
    }
   ],
   "source": [
    "type(5)  # 5 is an instance of what class?"
   ]
  },
  {
   "cell_type": "code",
   "execution_count": 4,
   "metadata": {},
   "outputs": [
    {
     "data": {
      "text/plain": [
       "str"
      ]
     },
     "execution_count": 4,
     "metadata": {},
     "output_type": "execute_result"
    }
   ],
   "source": [
    "type('5')  # '5' is an instance of what class?"
   ]
  },
  {
   "cell_type": "markdown",
   "metadata": {},
   "source": [
    "# So what? Why do we care about an object's class/type?\n",
    "\n",
    "The type/class determines its functionality:\n",
    "\n",
    "- What data does it store?\n",
    "- What methods can we invoke on it?\n",
    "- What operators can we use with it?\n",
    "- What inputs can it take, and what outputs does it provide?\n",
    "\n",
    "If a doctor knows what kind of cell they're looking at, then they know what it's supposed to do.\n",
    "\n",
    "If we see an animal, and know what kind of animal it is, we can know (roughly) what it does.\n",
    "\n",
    "We know that strings behave differently from integers, and they both behave differently from dicts. That's because they are different classes, and different classes behave differently."
   ]
  },
  {
   "cell_type": "markdown",
   "metadata": {},
   "source": [
    "# We don't really need objects!\n",
    "\n",
    "Let's see how we can set up a data structure without object-oriented programming. Then we'll see why we might want to use objects."
   ]
  },
  {
   "cell_type": "code",
   "execution_count": 5,
   "metadata": {},
   "outputs": [],
   "source": [
    "# let's create a data structure that keeps track of a person -- in this case, me!\n",
    "# I'll use a tuple with 3 elements -- one for my first name, one for my last name, and a third for my shoe size\n",
    "\n",
    "p = ('Reuven', 'Lerner', 46)"
   ]
  },
  {
   "cell_type": "code",
   "execution_count": 6,
   "metadata": {},
   "outputs": [
    {
     "data": {
      "text/plain": [
       "'Reuven'"
      ]
     },
     "execution_count": 6,
     "metadata": {},
     "output_type": "execute_result"
    }
   ],
   "source": [
    "p[0]  # get the first name"
   ]
  },
  {
   "cell_type": "code",
   "execution_count": 7,
   "metadata": {},
   "outputs": [
    {
     "data": {
      "text/plain": [
       "'Lerner'"
      ]
     },
     "execution_count": 7,
     "metadata": {},
     "output_type": "execute_result"
    }
   ],
   "source": [
    "p[1] # get the last name"
   ]
  },
  {
   "cell_type": "code",
   "execution_count": 8,
   "metadata": {},
   "outputs": [
    {
     "data": {
      "text/plain": [
       "46"
      ]
     },
     "execution_count": 8,
     "metadata": {},
     "output_type": "execute_result"
    }
   ],
   "source": [
    "p[2] # get the shoe size"
   ]
  },
  {
   "cell_type": "code",
   "execution_count": 9,
   "metadata": {},
   "outputs": [
    {
     "data": {
      "text/plain": [
       "'Reuven Lerner'"
      ]
     },
     "execution_count": 9,
     "metadata": {},
     "output_type": "execute_result"
    }
   ],
   "source": [
    "# there is nothing wrong with this!\n",
    "# but.. what if I want a string with both the first and last name\n",
    "\n",
    "f'{p[0]} {p[1]}'"
   ]
  },
  {
   "cell_type": "code",
   "execution_count": 10,
   "metadata": {},
   "outputs": [],
   "source": [
    "# if I'm going to do that a lot, then I probably want to put that in a function.\n",
    "\n",
    "def fullname(person_tuple):\n",
    "    return f'{person_tuple[0]} {person_tuple[1]}'"
   ]
  },
  {
   "cell_type": "code",
   "execution_count": 11,
   "metadata": {},
   "outputs": [
    {
     "data": {
      "text/plain": [
       "'Reuven Lerner'"
      ]
     },
     "execution_count": 11,
     "metadata": {},
     "output_type": "execute_result"
    }
   ],
   "source": [
    "fullname(p)"
   ]
  },
  {
   "cell_type": "markdown",
   "metadata": {},
   "source": [
    "# This worked! But...\n",
    "\n",
    "1. We lose the advantage of *abstraction*. I'm still thinking about a tuple containing two strings and an integer. I want to think at a higher level, about a person -- but the fact that I've got this tuple prevents that. If I can create a new data structure that concentrates on the Person aspects of this data, then I can plan, think, and maintain my software more easily.\n",
    "2. There is no guarantee that people will call `fullname` with the right kind of tuple. We could accidentally have a bug in our code that would be hard to track down.\n",
    "3. It's really annoying to think about the first name as being at index 0, and the last name as being at index 1. I'd much rather have named fields I can use to retrieve those.\n",
    "4. If we use a class, then we can enforce the number, type, and value of different attributes.\n"
   ]
  },
  {
   "cell_type": "markdown",
   "metadata": {},
   "source": [
    "# Exercise: Non-object objects\n",
    "\n",
    "1. Define a tuple containing information about a company, with fields for the company's name, its domain, and the number of employees.\n",
    "2. Write a function that expects to get that tuple, and returns a string `COMPANY in DOMAIN`.\n",
    "3. What happens if you run `type` on your tuple? What do you get?"
   ]
  },
  {
   "cell_type": "code",
   "execution_count": 12,
   "metadata": {},
   "outputs": [],
   "source": [
    "big_company = ('BigCo', 'world domination', 100_000)\n",
    "small_company = ('SmallCo', 'nanotechnology', 3)"
   ]
  },
  {
   "cell_type": "code",
   "execution_count": 13,
   "metadata": {},
   "outputs": [],
   "source": [
    "def company_info(company_tuple):\n",
    "    return f'{company_tuple[0]} in {company_tuple[1]}'"
   ]
  },
  {
   "cell_type": "code",
   "execution_count": 14,
   "metadata": {},
   "outputs": [
    {
     "data": {
      "text/plain": [
       "'BigCo in world domination'"
      ]
     },
     "execution_count": 14,
     "metadata": {},
     "output_type": "execute_result"
    }
   ],
   "source": [
    "company_info(big_company)"
   ]
  },
  {
   "cell_type": "code",
   "execution_count": 15,
   "metadata": {},
   "outputs": [
    {
     "data": {
      "text/plain": [
       "'SmallCo in nanotechnology'"
      ]
     },
     "execution_count": 15,
     "metadata": {},
     "output_type": "execute_result"
    }
   ],
   "source": [
    "company_info(small_company)"
   ]
  },
  {
   "cell_type": "code",
   "execution_count": 16,
   "metadata": {},
   "outputs": [],
   "source": [
    "# we can write a function finding the headcount\n",
    "\n",
    "def company_headcount(company_tuple):\n",
    "    return company_tuple[2]"
   ]
  },
  {
   "cell_type": "code",
   "execution_count": 17,
   "metadata": {},
   "outputs": [
    {
     "data": {
      "text/plain": [
       "100000"
      ]
     },
     "execution_count": 17,
     "metadata": {},
     "output_type": "execute_result"
    }
   ],
   "source": [
    "company_headcount(big_company)"
   ]
  },
  {
   "cell_type": "markdown",
   "metadata": {},
   "source": [
    "# What is abstraction?\n",
    "\n",
    "The idea of abstraction is that you can/should think at a higher level, and by focusing on a higher level, you can think bigger thoughts and plan bigger things. Also, through abstraction, we can communicate more easily.\n",
    "\n",
    "1. Making an omlette. By using the phrase \"making an omlette,\" I'm able to think at a higher level and communicate more efficiently. I can also say, \"I had friends over and made 5 omlettes.\" If and when I need, I can dive into a lower level and describe what kind of eggs, what kind of pan, etc. But most of the time, it's convenient to think at that higher level.\n",
    "2. Driving a car. You cannot both drive a car and think about all of the things it's doing at the same time. You think in terms of the steering wheel, brake, accelerator, etc., not all of the little things happening in the car. Imagine trying to drive when thinking those tihngs. Now imagine trying to reason about traffic patterns when thinking about those things.\n",
    "\n",
    "In engineering, we're constantly trying to go at higher levels of abstraction. We don't think about the bits on our computer, or the CPU, rather, we think in terms of ints, strings, dicts, etc. "
   ]
  },
  {
   "cell_type": "code",
   "execution_count": null,
   "metadata": {},
   "outputs": [],
   "source": []
  }
 ],
 "metadata": {
  "kernelspec": {
   "display_name": "Python 3 (ipykernel)",
   "language": "python",
   "name": "python3"
  },
  "language_info": {
   "codemirror_mode": {
    "name": "ipython",
    "version": 3
   },
   "file_extension": ".py",
   "mimetype": "text/x-python",
   "name": "python",
   "nbconvert_exporter": "python",
   "pygments_lexer": "ipython3",
   "version": "3.13.2"
  }
 },
 "nbformat": 4,
 "nbformat_minor": 4
}
