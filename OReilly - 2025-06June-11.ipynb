{
 "cells": [
  {
   "cell_type": "markdown",
   "metadata": {},
   "source": [
    "# Agenda\n",
    "\n",
    "1. Intro to objects\n",
    "    - What are objects?\n",
    "    - In Python, everything is an object -- so what?\n",
    "    - Creating your own data structures (in general)\n",
    "    - Creating your own classes\n",
    "    - What happens when you create a new object?\n",
    "    - Complex objects and composition\n",
    "2. Methods\n",
    "    - Using methods\n",
    "    - Writing methods\n",
    "    - The `self` parameter in methods, and what it means\n",
    "    - Other parameters and passing arguments\n",
    "\n",
    "# Tomorrow\n",
    "\n",
    "1. Magic methods\n",
    "2. Class attributes\n",
    "3. Attribute lookup (ICPO rule)\n",
    "4. Inheritance\n",
    "    - The three paradigms of method inheritance\n",
    "    - Attribute inheritance -- what it means, and how it works\n",
    "5. What are the next steps?"
   ]
  },
  {
   "cell_type": "markdown",
   "metadata": {},
   "source": [
    "# What are objects?\n",
    "\n",
    "Software is hard to write, and it's even harder t"
   ]
  }
 ],
 "metadata": {
  "kernelspec": {
   "display_name": "Python 3 (ipykernel)",
   "language": "python",
   "name": "python3"
  },
  "language_info": {
   "codemirror_mode": {
    "name": "ipython",
    "version": 3
   },
   "file_extension": ".py",
   "mimetype": "text/x-python",
   "name": "python",
   "nbconvert_exporter": "python",
   "pygments_lexer": "ipython3",
   "version": "3.13.2"
  }
 },
 "nbformat": 4,
 "nbformat_minor": 4
}
