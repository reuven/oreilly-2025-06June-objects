{
 "cells": [
  {
   "cell_type": "markdown",
   "metadata": {},
   "source": [
    "# Agenda\n",
    "\n",
    "1. Intro to objects\n",
    "    - What are objects?\n",
    "    - In Python, everything is an object -- so what?\n",
    "    - Creating your own data structures (in general)\n",
    "    - Creating your own classes\n",
    "    - What happens when you create a new object?\n",
    "    - Complex objects and composition\n",
    "2. Methods\n",
    "    - Using methods\n",
    "    - Writing methods\n",
    "    - The `self` parameter in methods, and what it means\n",
    "    - Other parameters and passing arguments\n",
    "\n",
    "# Tomorrow\n",
    "\n",
    "1. Magic methods\n",
    "2. Class attributes\n",
    "3. Attribute lookup (ICPO rule)\n",
    "4. Inheritance\n",
    "    - The three paradigms of method inheritance\n",
    "    - Attribute inheritance -- what it means, and how it works\n",
    "5. What are the next steps?"
   ]
  },
  {
   "cell_type": "markdown",
   "metadata": {},
   "source": [
    "# What are objects?\n",
    "\n",
    "Software is hard to write, and it's even harder to maintain.\n",
    "\n",
    "Back in the 1970s, people thought about this a *lot*. One of them is named Alan Kay. Kay thought about what was hard about programming, and how to make it easier. The problem was (and is) that software is very large and very complex. He thought that we could create software like a biological system -- systems that have many different parts, but work together. Each part is made up of cells, and there are many kinds of cells. Each kind of cell receives and sends different kinds of messages. Kay thought that if we could create software with different types of cells, each of which knew how to send and receive different kinds of messages, we could concentrate on these types of cells, and software would be easier to write and more reliable.\n",
    "\n",
    "He invented a programming language that implemented this, call Smalltalk.\n",
    "\n",
    "This was the beginning of object-oriented programming:\n",
    "\n",
    "- Instead of cells, we talk about \"objects\"\n",
    "- Instead of types of cells, we talk about \"classes\"\n",
    "- Instead of talking about sending messages, we talk about \"calling methods.\"\n",
    "\n",
    "Objectes have been around for about 50 years now. As we know, software is now easy to write, easy to maintain, very cheap, and... Today, most programming languages have some facility for working with objects, and it's kind of expected. \n",
    "\n",
    "At the end of the day, object-oriented programming is a technique for organizing your code. \n",
    "\n",
    "Do you always need to use objects? The answer is \"no.\" Python is agnostic on this -- the underlying language uses objects, but if you want to ignore them, you basically can. Some other languages, like Java, require it of you.\n",
    "\n"
   ]
  },
  {
   "cell_type": "code",
   "execution_count": null,
   "metadata": {},
   "outputs": [],
   "source": []
  }
 ],
 "metadata": {
  "kernelspec": {
   "display_name": "Python 3 (ipykernel)",
   "language": "python",
   "name": "python3"
  },
  "language_info": {
   "codemirror_mode": {
    "name": "ipython",
    "version": 3
   },
   "file_extension": ".py",
   "mimetype": "text/x-python",
   "name": "python",
   "nbconvert_exporter": "python",
   "pygments_lexer": "ipython3",
   "version": "3.13.2"
  }
 },
 "nbformat": 4,
 "nbformat_minor": 4
}
