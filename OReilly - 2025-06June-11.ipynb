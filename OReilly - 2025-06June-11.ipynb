{
 "cells": [
  {
   "cell_type": "markdown",
   "metadata": {},
   "source": [
    "# Agenda\n",
    "\n",
    "1. Intro to objects\n",
    "    - What are objects?\n",
    "    - In Python, everything is an object -- so what?\n",
    "    - Creating your own data structures (in general)\n",
    "    - Creating your own classes\n",
    "    - What happens when you create a new object?\n",
    "    - Complex objects and composition\n",
    "2. Methods\n",
    "    - Using methods\n",
    "    - Writing methods\n",
    "    - The `self` parameter in methods, and what it means\n",
    "    - Other parameters and passing arguments\n",
    "\n",
    "# Tomorrow\n",
    "\n",
    "1. Magic methods\n",
    "2. Class attributes\n",
    "3. Attribute lookup (ICPO rule)\n",
    "4. Inheritance\n",
    "    - The three paradigms of method inheritance\n",
    "    - Attribute inheritance -- what it means, and how it works\n",
    "5. What are the next steps?"
   ]
  },
  {
   "cell_type": "markdown",
   "metadata": {},
   "source": [
    "# What are objects?\n",
    "\n",
    "Software is hard to write, and it's even harder to maintain.\n",
    "\n",
    "Back in the 1970s, people thought about this a *lot*. One of them is named Alan Kay. Kay thought about what was hard about programming, and how to make it easier. The problem was (and is) that software is very large and very complex. He thought that we could create software like a biological system -- systems that have many different parts, but work together. Each part is made up of cells, and there are many kinds of cells. Each kind of cell receives and sends different kinds of messages. Kay thought that if we could create software with different types of cells, each of which knew how to send and receive different kinds of messages, we could concentrate on these types of cells, and software would be easier to write and more reliable.\n",
    "\n",
    "He invented a programming language that implemented this, call Smalltalk.\n",
    "\n",
    "This was the beginning of object-oriented programming:\n",
    "\n",
    "- Instead of cells, we talk about \"objects\"\n",
    "- Instead of types of cells, we talk about \"classes\"\n",
    "- Instead of talking about sending messages, we talk about \"calling methods.\"\n",
    "\n",
    "Objectes have been around for about 50 years now. As we know, software is now easy to write, easy to maintain, very cheap, and... Today, most programming languages have some facility for working with objects, and it's kind of expected. \n",
    "\n",
    "At the end of the day, object-oriented programming is a technique for organizing your code. \n",
    "\n",
    "Do you always need to use objects? The answer is \"no.\" Python is agnostic on this -- the underlying language uses objects, but if you want to ignore them, you basically can. Some other languages, like Java, require it of you.\n",
    "\n"
   ]
  },
  {
   "cell_type": "markdown",
   "metadata": {},
   "source": [
    "# Everything is an object\n",
    "\n",
    "What does this mean? Why should I care?\n",
    "\n",
    "If we say that everything in Python is an object:\n",
    "\n",
    "- We can apply the same rules to our data structures (the ones that we create) as the built-in data types in Python.\n",
    "- It means that the same rules apply to *all* data structures, both internal and user defined -- it makes the language consistent, and easier to learn and use.\n",
    "- If we want to extend/improve the system, there's a clear framework for doing so -- using objects.\n",
    "\n",
    "Once you learn how Python works, and how it treats objects, you can use that information repeatedly in your programs."
   ]
  },
  {
   "cell_type": "markdown",
   "metadata": {},
   "source": [
    "# Jargon/vocabulary\n",
    "\n",
    "- `class` and `type` -- These words are (in Python) pretty much interchangeable. You can't swap them around in your Python program, but when we're talking about objects, you can. A class is a data type, and it's also a factory for objects of that type. If you have a string in Python, then its class is `str`, because `str` created it.\n",
    "    - `str` is a class\n",
    "    - `str` is as type\n",
    "    - `str` creates all strings in Python\n",
    "- If we want to create a new value of type `X`, then we invoke `X()`, typically with an argument that will be used as the basis for that value.\n",
    "- `instance` - when I create a new string, we could say that I have created a new *instance* of `str`. A class is a factory for creating objects, or (stated another way) an object is an instance of that factory. Everything is Python is an object, so everything is an instance of something, of some class/type. If you want to know what type of value it is, or what its class is, you can use the `type` function, which returns it.\n",
    "- `object` -- this word is way overused in the object-oriented programming world. It basically means \"a value,\" or \"a noun.\" Sometimes, when we say \"object,\" we mean, \"a value in Python.\" We can say \"that string object\" or \"that dict object.\" We can also say that `str` is a \"class object,\" or sometimes a \"factory object.\" Part of the problem (that we'll talk about tomorrow) is that the word `object` also has a specific meaning in Python -- it's the generic factory that creates all objects."
   ]
  },
  {
   "cell_type": "code",
   "execution_count": 2,
   "metadata": {},
   "outputs": [
    {
     "data": {
      "text/plain": [
       "'5'"
      ]
     },
     "execution_count": 2,
     "metadata": {},
     "output_type": "execute_result"
    }
   ],
   "source": [
    "str(5)   # we get a new string, based on the integer 5, thanks to `str`, which creates strings -- it's a string factory"
   ]
  },
  {
   "cell_type": "code",
   "execution_count": 3,
   "metadata": {},
   "outputs": [
    {
     "data": {
      "text/plain": [
       "int"
      ]
     },
     "execution_count": 3,
     "metadata": {},
     "output_type": "execute_result"
    }
   ],
   "source": [
    "type(5)  # 5 is an instance of what class?"
   ]
  },
  {
   "cell_type": "code",
   "execution_count": 4,
   "metadata": {},
   "outputs": [
    {
     "data": {
      "text/plain": [
       "str"
      ]
     },
     "execution_count": 4,
     "metadata": {},
     "output_type": "execute_result"
    }
   ],
   "source": [
    "type('5')  # '5' is an instance of what class?"
   ]
  },
  {
   "cell_type": "code",
   "execution_count": null,
   "metadata": {},
   "outputs": [],
   "source": []
  }
 ],
 "metadata": {
  "kernelspec": {
   "display_name": "Python 3 (ipykernel)",
   "language": "python",
   "name": "python3"
  },
  "language_info": {
   "codemirror_mode": {
    "name": "ipython",
    "version": 3
   },
   "file_extension": ".py",
   "mimetype": "text/x-python",
   "name": "python",
   "nbconvert_exporter": "python",
   "pygments_lexer": "ipython3",
   "version": "3.13.2"
  }
 },
 "nbformat": 4,
 "nbformat_minor": 4
}
