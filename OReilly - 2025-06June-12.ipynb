{
 "cells": [
  {
   "cell_type": "markdown",
   "metadata": {},
   "source": [
    "# Agenda, day 2\n",
    "\n",
    "1. Recap + Q&A\n",
    "2. Magic methods\n",
    "3. Class attributes\n",
    "4. Finding attributes with ICPO\n",
    "5. Inheritance -- what is it, and how it works (hint: ICPO)\n",
    "6. What next?"
   ]
  },
  {
   "cell_type": "markdown",
   "metadata": {},
   "source": [
    "# Recap\n",
    "\n",
    "It's always easiest to write a program when the data structure is appropriate for the problem you're trying to solve.\n",
    "\n",
    "In object-oriented programming, we're trying to create custom data structures that are appropriate for solving our custom problems. By defining these custom data structures, we're also able to think at a higher level, talking about the objects we create, rather than the underlying abstract data structures.\n",
    "\n",
    "- By putting these core data structures (e.g., strings, lists, and dicts) inside of a class, we can think and reason about our data at a higher level, and then use our class in other classes.\n",
    "- Methods (verbs) are defined on the class, whihc means that they are tightly bound to a particular data type. Regular functions can be invoked with any type of value, whether it's appropriate or not, whether it'll lead to a crash or not. A method is only available on objects for which it's appropriate. It's easier to get a list of methods on an object, and choose from those, than to look at an (infinitely long) list of functions and figure out what would work with your object.\n",
    "- We define classes (i.e., new data types). A type is a class, and a class is a type. A class is also a factory for creating objects of its type. A `Person` class creates new objects of type `Person` -- which we call *instances* of `Person`.\n",
    "- The most important method in a class is `__init__`, whose job is to add attributes after the object is created, but before it's returned to the caller. If you create 5 new instances of a class, then `__init__` will be invoked 5 times, once for each instance. Each time, the instance will be passed to `__init__` in `self`.\n",
    "- `__init__`, and *all* methods in Python, expect the first parameter to be called `self` (this is a convention, but a really strong one). That will always be the object on which we invoked the method. All further arguments are assigned to other parameters; the first parameter is always `self`.\n",
    "- When we assign to an attribute on `self`, we're basically storing in the object's private storage area. That storage area (\"attributes\") stick around even after the method exits. This is a way of \"keeping state\" on the object itself.\n",
    "- In theory, you could assign *all* of the attributes outside of `__init__`. Python won't stop you from doing that. However, because we want to make our object easier for people to understand, read, and maintain, we typically assign to all of our attributes in `__init__`, even if it'll be 0, the empty string, the empty list, etc.\n",
    "- To read from an attribute, just use `.NAME`, where `NAME` is the name of the attribute. On `x`, you can get `x.id_number` in that way.\n",
    "- To set an attribute, just assign to it. Your new value will replace the old one. (If the attribute didn't previously exist, it will now!)\n",
    "- To define a method, just define a function inside of the class body. The first parameter must be `self`, but other parameters can use all of the tricks that Python lets us use in our functions."
   ]
  },
  {
   "cell_type": "code",
   "execution_count": 2,
   "metadata": {},
   "outputs": [
    {
     "data": {
      "text/plain": [
       "'Hello, Reuven'"
      ]
     },
     "execution_count": 2,
     "metadata": {},
     "output_type": "execute_result"
    }
   ],
   "source": [
    "class Person:\n",
    "    def __init__(self, name, shoe_size):\n",
    "        self.name = name\n",
    "        self.shoe_size = shoe_size\n",
    "        self.bank_account = 0\n",
    "\n",
    "    def greet(self):\n",
    "        return f'Hello, {self.name}'\n",
    "\n",
    "p = Person('Reuven', 46)\n",
    "p.greet()   # we invoke the greet method on p, which results in Person.greet(p), which returns..."
   ]
  },
  {
   "cell_type": "code",
   "execution_count": 3,
   "metadata": {},
   "outputs": [
    {
     "ename": "AttributeError",
     "evalue": "'Person' object has no attribute 'id_number'",
     "output_type": "error",
     "traceback": [
      "\u001b[31m---------------------------------------------------------------------------\u001b[39m",
      "\u001b[31mAttributeError\u001b[39m                            Traceback (most recent call last)",
      "\u001b[36mCell\u001b[39m\u001b[36m \u001b[39m\u001b[32mIn[3]\u001b[39m\u001b[32m, line 3\u001b[39m\n\u001b[32m      1\u001b[39m \u001b[38;5;66;03m# what happens if I try to retrieve an attribute that doesn't exist?\u001b[39;00m\n\u001b[32m----> \u001b[39m\u001b[32m3\u001b[39m \u001b[43mp\u001b[49m\u001b[43m.\u001b[49m\u001b[43mid_number\u001b[49m\n",
      "\u001b[31mAttributeError\u001b[39m: 'Person' object has no attribute 'id_number'"
     ]
    }
   ],
   "source": [
    "# what happens if I try to retrieve an attribute that doesn't exist?\n",
    "\n",
    "p.id_number"
   ]
  },
  {
   "cell_type": "markdown",
   "metadata": {},
   "source": [
    "# Methods\n",
    "\n",
    "Normally, methods are\n",
    "\n",
    "- defined on the class (in the class body, with `def`)\n",
    "- invoked on the instance\n",
    "\n",
    "But we saw that actually, Python does some rewriting here:\n",
    "\n",
    "    an_instance.a_method()\n",
    "\n",
    "this is rewritten, silently and behind the scenes, to:\n",
    "\n",
    "    a_class.a_method(an_instance)\n",
    "\n",
    "(this assumes that `a_class` is the class for `an_instance`.    As you can see, the instance is moved into the first argument position, which means that it'll be assigned to `self`."
   ]
  },
  {
   "cell_type": "markdown",
   "metadata": {},
   "source": [
    "# Exercise: Cellphone\n",
    "\n",
    "1. Define a `Cellphone` class. Each instance wil have two attributes:\n",
    "    - `number`\n",
    "    - `model`\n",
    "2. You should be able to invoke the `call` method on your phone. It'll return a string saying, `'Calling...'` and print the number it's calling."
   ]
  },
  {
   "cell_type": "code",
   "execution_count": 4,
   "metadata": {},
   "outputs": [],
   "source": [
    "class Cellphone:\n",
    "    def __init__(self, number, model):\n",
    "        self.number = number\n",
    "        self.model = model\n",
    "\n",
    "c1 = Cellphone('12345', 'iPhone')\n",
    "c2 = Cellphone('67890', 'Samsung')"
   ]
  },
  {
   "cell_type": "code",
   "execution_count": 5,
   "metadata": {},
   "outputs": [
    {
     "data": {
      "text/plain": [
       "{'number': '12345', 'model': 'iPhone'}"
      ]
     },
     "execution_count": 5,
     "metadata": {},
     "output_type": "execute_result"
    }
   ],
   "source": [
    "vars(c1)"
   ]
  },
  {
   "cell_type": "code",
   "execution_count": 6,
   "metadata": {},
   "outputs": [
    {
     "data": {
      "text/plain": [
       "{'number': '67890', 'model': 'Samsung'}"
      ]
     },
     "execution_count": 6,
     "metadata": {},
     "output_type": "execute_result"
    }
   ],
   "source": [
    "vars(c2)"
   ]
  },
  {
   "cell_type": "code",
   "execution_count": 7,
   "metadata": {},
   "outputs": [
    {
     "data": {
      "text/plain": [
       "'12345'"
      ]
     },
     "execution_count": 7,
     "metadata": {},
     "output_type": "execute_result"
    }
   ],
   "source": [
    "c1.number"
   ]
  },
  {
   "cell_type": "code",
   "execution_count": 8,
   "metadata": {},
   "outputs": [
    {
     "data": {
      "text/plain": [
       "'67890'"
      ]
     },
     "execution_count": 8,
     "metadata": {},
     "output_type": "execute_result"
    }
   ],
   "source": [
    "c2.number"
   ]
  },
  {
   "cell_type": "code",
   "execution_count": 9,
   "metadata": {},
   "outputs": [
    {
     "data": {
      "text/plain": [
       "'iPhone'"
      ]
     },
     "execution_count": 9,
     "metadata": {},
     "output_type": "execute_result"
    }
   ],
   "source": [
    "c1.model"
   ]
  },
  {
   "cell_type": "code",
   "execution_count": 10,
   "metadata": {},
   "outputs": [
    {
     "data": {
      "text/plain": [
       "'Samsung'"
      ]
     },
     "execution_count": 10,
     "metadata": {},
     "output_type": "execute_result"
    }
   ],
   "source": [
    "c2.model"
   ]
  },
  {
   "cell_type": "code",
   "execution_count": 11,
   "metadata": {},
   "outputs": [],
   "source": [
    "class Cellphone:\n",
    "    def __init__(self, number, model):\n",
    "        self.number = number\n",
    "        self.model = model\n",
    "    def call(self):\n",
    "        return f'Calling {self.number} on your {self.model}...'\n",
    "\n",
    "c1 = Cellphone('12345', 'iPhone')\n",
    "c2 = Cellphone('67890', 'Samsung')"
   ]
  },
  {
   "cell_type": "code",
   "execution_count": 12,
   "metadata": {},
   "outputs": [
    {
     "data": {
      "text/plain": [
       "'Calling 12345 on your iPhone...'"
      ]
     },
     "execution_count": 12,
     "metadata": {},
     "output_type": "execute_result"
    }
   ],
   "source": [
    "c1.call()"
   ]
  },
  {
   "cell_type": "code",
   "execution_count": 13,
   "metadata": {},
   "outputs": [
    {
     "data": {
      "text/plain": [
       "'Calling 67890 on your Samsung...'"
      ]
     },
     "execution_count": 13,
     "metadata": {},
     "output_type": "execute_result"
    }
   ],
   "source": [
    "c2.call()"
   ]
  },
  {
   "cell_type": "markdown",
   "metadata": {},
   "source": [
    "# Single Repsonsibility Principle\n",
    "\n",
    "This means: A class should do one thing, and only one thing. If you try to stuff lots of functionality into a particular class, it'll be hard to read/write/maintain."
   ]
  },
  {
   "cell_type": "markdown",
   "metadata": {},
   "source": [
    "# Magic methods\n",
    "\n",
    "When we perform certain operations in Python, the language looks for a method with a specific name that implements that operation. These methods all start and end with double underscores. So they're often known as \"dunder methods,\" but they are also known as \"magic methods.\" You usually don't want to invoke them directly yourself; the idea is that Python will invoke them on your behalf in certain situations.\n",
    "\n",
    "This means that if you want to give your object some standard Python functionality that people expect on other objects, then you can pretty easily do that."
   ]
  },
  {
   "cell_type": "markdown",
   "metadata": {},
   "source": [
    "# First magic method: `__len__`\n",
    "\n",
    "What happens if I call `len` (the function) on a `Person` object?"
   ]
  },
  {
   "cell_type": "code",
   "execution_count": 14,
   "metadata": {},
   "outputs": [],
   "source": [
    "p = Person('Reuven', 46)"
   ]
  },
  {
   "cell_type": "code",
   "execution_count": 15,
   "metadata": {},
   "outputs": [
    {
     "ename": "TypeError",
     "evalue": "object of type 'Person' has no len()",
     "output_type": "error",
     "traceback": [
      "\u001b[31m---------------------------------------------------------------------------\u001b[39m",
      "\u001b[31mTypeError\u001b[39m                                 Traceback (most recent call last)",
      "\u001b[36mCell\u001b[39m\u001b[36m \u001b[39m\u001b[32mIn[15]\u001b[39m\u001b[32m, line 1\u001b[39m\n\u001b[32m----> \u001b[39m\u001b[32m1\u001b[39m \u001b[38;5;28;43mlen\u001b[39;49m\u001b[43m(\u001b[49m\u001b[43mp\u001b[49m\u001b[43m)\u001b[49m\n",
      "\u001b[31mTypeError\u001b[39m: object of type 'Person' has no len()"
     ]
    }
   ],
   "source": [
    "len(p)"
   ]
  },
  {
   "cell_type": "markdown",
   "metadata": {},
   "source": [
    "# What happened?\n",
    "\n",
    "When we call `len` (the function), it looks for a special (magic) method on the object called `__len__`. If that method exists, it is invoked and `len` returns the result from that method.\n",
    "\n",
    "We can call `len` on many different objects:\n",
    "\n",
    "- If we get the `len` of a list, we get the number of elements\n",
    "- If we get the `len` of a string, we get the number of characters\n",
    "- If we get the `len` of a dict, we get the number of keys\n",
    "\n",
    "`len` doesn't have to know about all of these different data structures! It can just invoke `__len__`, outsourcing it to the method on that class, and be done with it."
   ]
  },
  {
   "cell_type": "code",
   "execution_count": 16,
   "metadata": {},
   "outputs": [
    {
     "data": {
      "text/plain": [
       "'Hello, Reuven'"
      ]
     },
     "execution_count": 16,
     "metadata": {},
     "output_type": "execute_result"
    }
   ],
   "source": [
    "class Person:\n",
    "    def __init__(self, name, shoe_size):\n",
    "        self.name = name\n",
    "        self.shoe_size = shoe_size\n",
    "        self.bank_account = 0\n",
    "\n",
    "    def greet(self):\n",
    "        return f'Hello, {self.name}'\n",
    "\n",
    "    def __len__(self):   # __len__ takes only self, and must return an integer\n",
    "        return self.shoe_size\n",
    "\n",
    "p = Person('Reuven', 46)\n",
    "p.greet()   # we invoke the greet method on p, which results in Person.greet(p), which returns..."
   ]
  },
  {
   "cell_type": "code",
   "execution_count": 17,
   "metadata": {},
   "outputs": [
    {
     "data": {
      "text/plain": [
       "46"
      ]
     },
     "execution_count": 17,
     "metadata": {},
     "output_type": "execute_result"
    }
   ],
   "source": [
    "len(p)"
   ]
  },
  {
   "cell_type": "code",
   "execution_count": 18,
   "metadata": {},
   "outputs": [
    {
     "ename": "TypeError",
     "evalue": "object of type 'int' has no len()",
     "output_type": "error",
     "traceback": [
      "\u001b[31m---------------------------------------------------------------------------\u001b[39m",
      "\u001b[31mTypeError\u001b[39m                                 Traceback (most recent call last)",
      "\u001b[36mCell\u001b[39m\u001b[36m \u001b[39m\u001b[32mIn[18]\u001b[39m\u001b[32m, line 3\u001b[39m\n\u001b[32m      1\u001b[39m \u001b[38;5;66;03m# plenty of objects have no len!\u001b[39;00m\n\u001b[32m----> \u001b[39m\u001b[32m3\u001b[39m \u001b[38;5;28;43mlen\u001b[39;49m\u001b[43m(\u001b[49m\u001b[32;43m10\u001b[39;49m\u001b[43m)\u001b[49m\n",
      "\u001b[31mTypeError\u001b[39m: object of type 'int' has no len()"
     ]
    }
   ],
   "source": [
    "# plenty of objects have no len!\n",
    "\n",
    "len(10)"
   ]
  },
  {
   "cell_type": "markdown",
   "metadata": {},
   "source": [
    "# Don't invoke `__len__` yourself!\n",
    "\n",
    "Generally speaking, you don't want to invoke magic methods directly. They are \"callbacks,\" meaning that we install them and Python invokes them on our behalf."
   ]
  },
  {
   "cell_type": "markdown",
   "metadata": {},
   "source": [
    "# Exericse: How many scoops?\n",
    "\n",
    "We're going to return to our `Bowl` class from yesterday. Someone might want to know how many scoops are currently in the bowl.\n",
    "\n",
    "1. Add `__len__` method.\n",
    "2. Use it, both before and after adding scoops. Make sure it works."
   ]
  },
  {
   "cell_type": "markdown",
   "metadata": {},
   "source": [
    "# What does it mean for Python to run a magic method on our behalf?\n",
    "\n",
    "Normally, if I want to run a function, I just run it:\n",
    "\n",
    "    a_function()\n",
    "\n",
    "In the case of a magic method, that's not how it works. Rather, I basically register the method with Python, and I say, \"When the situation is appropriate, run this method.\" I define `__len__` on my class, and then I never run it directly. Rather, when I invoke `len` on my object, Python says, \"aha! I should run `__len__` now, and does so."
   ]
  },
  {
   "cell_type": "code",
   "execution_count": 20,
   "metadata": {},
   "outputs": [
    {
     "name": "stdout",
     "output_type": "stream",
     "text": [
      "Before, 0 scoops\n",
      "After, 3 scoops\n"
     ]
    }
   ],
   "source": [
    "class Scoop:\n",
    "    def __init__(self, flavor):\n",
    "        self.flavor = flavor\n",
    "\n",
    "s1 = Scoop('chocolate')\n",
    "s2 = Scoop('vanilla')\n",
    "s3 = Scoop('coffee')\n",
    "\n",
    "class Bowl:\n",
    "    def __init__(self):\n",
    "        self.scoops = []   # initialize an empty list of scoops\n",
    "    def add_scoop(self, one_scoop):\n",
    "        self.scoops.append(one_scoop)   # add the scoop we were passed to self.scoops\n",
    "    def __len__(self):\n",
    "        return len(self.scoops)\n",
    "\n",
    "b = Bowl()\n",
    "print(f'Before, {len(b)} scoops')\n",
    "b.add_scoop(s1)\n",
    "b.add_scoop(s2)\n",
    "b.add_scoop(s3)\n",
    "print(f'After, {len(b)} scoops')"
   ]
  },
  {
   "cell_type": "markdown",
   "metadata": {},
   "source": [
    "# Another magic method: `__str__`\n",
    "\n",
    "You might remember that we tried to print our objects yesterday, and ... it didn't go well."
   ]
  },
  {
   "cell_type": "code",
   "execution_count": 21,
   "metadata": {},
   "outputs": [
    {
     "data": {
      "text/plain": [
       "{'name': 'Reuven'}"
      ]
     },
     "execution_count": 21,
     "metadata": {},
     "output_type": "execute_result"
    }
   ],
   "source": [
    "class Person:\n",
    "    def __init__(self, name):\n",
    "        self.name = name\n",
    "\n",
    "p = Person('Reuven')\n",
    "vars(p)"
   ]
  },
  {
   "cell_type": "code",
   "execution_count": 22,
   "metadata": {},
   "outputs": [
    {
     "name": "stdout",
     "output_type": "stream",
     "text": [
      "<__main__.Person object at 0x10d50ee40>\n"
     ]
    }
   ],
   "source": [
    "print(p)  # what will we see?"
   ]
  },
  {
   "cell_type": "code",
   "execution_count": 23,
   "metadata": {},
   "outputs": [
    {
     "data": {
      "text/plain": [
       "{'name': 'Reuven'}"
      ]
     },
     "execution_count": 23,
     "metadata": {},
     "output_type": "execute_result"
    }
   ],
   "source": [
    "# what's really happening here?\n",
    "# when we say print(something), Python turns that into print(str(something))\n",
    "\n",
    "# when we say str(x), this then looks for x.__str__() -- it looks for a magic method!\n",
    "# if we define __str__ on our object, we can make it print out however we want!\n",
    "\n",
    "class Person:\n",
    "    def __init__(self, name):\n",
    "        self.name = name\n",
    "    def __str__(self):\n",
    "        return f'Person named {self.name}'\n",
    "\n",
    "p = Person('Reuven')\n",
    "vars(p)"
   ]
  },
  {
   "cell_type": "code",
   "execution_count": 24,
   "metadata": {},
   "outputs": [
    {
     "name": "stdout",
     "output_type": "stream",
     "text": [
      "Person named Reuven\n"
     ]
    }
   ],
   "source": [
    "print(p)"
   ]
  },
  {
   "cell_type": "markdown",
   "metadata": {},
   "source": [
    "Nearly every class defines `__str__`, because nearly every class wants to make itself printable/viewable by other people."
   ]
  },
  {
   "cell_type": "markdown",
   "metadata": {},
   "source": [
    "# Exercise: Printable scoops\n",
    "\n",
    "Modify `Scoop` such that when you `print` it or invoke `str` on it"
   ]
  }
 ],
 "metadata": {
  "kernelspec": {
   "display_name": "Python 3 (ipykernel)",
   "language": "python",
   "name": "python3"
  },
  "language_info": {
   "codemirror_mode": {
    "name": "ipython",
    "version": 3
   },
   "file_extension": ".py",
   "mimetype": "text/x-python",
   "name": "python",
   "nbconvert_exporter": "python",
   "pygments_lexer": "ipython3",
   "version": "3.13.2"
  }
 },
 "nbformat": 4,
 "nbformat_minor": 4
}
