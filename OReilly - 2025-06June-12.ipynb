{
 "cells": [
  {
   "cell_type": "markdown",
   "metadata": {},
   "source": [
    "# Agenda, day 2\n",
    "\n",
    "1. Recap + Q&A\n",
    "2. Magic methods\n",
    "3. Class attributes\n",
    "4. Finding attributes with ICPO\n",
    "5. Inheritance -- what is it, and how it works (hint: ICPO)\n",
    "6. What next?"
   ]
  },
  {
   "cell_type": "markdown",
   "metadata": {},
   "source": [
    "# Recap\n",
    "\n",
    "It's always easiest to write a program when the data structure is appropriate for the problem you're trying to solve.\n",
    "\n",
    "In object-oriented programming, we're trying to create custom data structures that are appropriate for solving our custom problems. By defining these custom data structures, we're also able to think at a higher level, talking about the objects we create, rather than the underlying abstract data structures.\n",
    "\n",
    "- By putting these core data structures (e.g., strings, lists, and dicts) inside of a class, we can think and reason about our data at a higher level, and then use our class in other classes.\n",
    "- Methods (verbs) are defined on the class, whihc means that they are tightly bound to a particular data type. Regular functions can be invoked with any type of value, whether it's appropriate or not, whether it'll lead to a crash or not. A method is only available on objects for which it's appropriate. It's easier to get a list of methods on an object, and choose from those, than to look at an (infinitely long) list of functions and figure out what would work with your object.\n",
    "- We define classes (i.e., new data types). A type is a class, and a class is a type. A class is also a factory for creating objects of its type. A `Person` class creates new objects of type `Person` -- which we call *instances* of `Person`.\n",
    "- The most important method in a class is `__init__`, whose job is to add attributes after the object is created, but before it's returned to the caller. If you create 5 new instances of a class, then `__init__` will be invoked 5 times, once for each instance. Each time, the instance will be passed to `__init__` in `self`.\n",
    "- `__init__`, and *all* methods in Python, expect the first parameter to be called `self` (this is a convention, but a really strong one). That will always be the object on which we invoked the method. All further arguments are assigned to other parameters; the first parameter is always `self`.\n",
    "- When we assign to an attribute on `self`, we're basically storing in the object's private storage area. That storage area (\"attributes\") stick around even after the method exits. This is a way of \"keeping state\" on the object itself.\n",
    "- In theory, you could assign *all* of the attributes outside of `__init__`. Python won't stop you from doing that. However, because we want to make our object easier for people to understand, read, and maintain, we typically assign to all of our attributes in `__init__`, even if it'll be 0, the empty string, the empty list, etc.\n",
    "- To read from an attribute, just use `.NAME`, where `NAME` is the name of the attribute. On `x`, you can get `x.id_number` in that way.\n",
    "- To set an attribute, just assign to it. Your new value will replace the old one. (If the attribute didn't previously exist, it will now!)\n",
    "- To define a method, just define a function inside of the class body. The first parameter must be `self`, but other parameters can use all of the tricks that Python lets us use in our functions."
   ]
  },
  {
   "cell_type": "code",
   "execution_count": 2,
   "metadata": {},
   "outputs": [
    {
     "data": {
      "text/plain": [
       "'Hello, Reuven'"
      ]
     },
     "execution_count": 2,
     "metadata": {},
     "output_type": "execute_result"
    }
   ],
   "source": [
    "class Person:\n",
    "    def __init__(self, name, shoe_size):\n",
    "        self.name = name\n",
    "        self.shoe_size = shoe_size\n",
    "        self.bank_account = 0\n",
    "\n",
    "    def greet(self):\n",
    "        return f'Hello, {self.name}'\n",
    "\n",
    "p = Person('Reuven', 46)\n",
    "p.greet()   # we invoke the greet method on p, which results in Person.greet(p), which returns..."
   ]
  },
  {
   "cell_type": "code",
   "execution_count": 3,
   "metadata": {},
   "outputs": [
    {
     "ename": "AttributeError",
     "evalue": "'Person' object has no attribute 'id_number'",
     "output_type": "error",
     "traceback": [
      "\u001b[31m---------------------------------------------------------------------------\u001b[39m",
      "\u001b[31mAttributeError\u001b[39m                            Traceback (most recent call last)",
      "\u001b[36mCell\u001b[39m\u001b[36m \u001b[39m\u001b[32mIn[3]\u001b[39m\u001b[32m, line 3\u001b[39m\n\u001b[32m      1\u001b[39m \u001b[38;5;66;03m# what happens if I try to retrieve an attribute that doesn't exist?\u001b[39;00m\n\u001b[32m----> \u001b[39m\u001b[32m3\u001b[39m \u001b[43mp\u001b[49m\u001b[43m.\u001b[49m\u001b[43mid_number\u001b[49m\n",
      "\u001b[31mAttributeError\u001b[39m: 'Person' object has no attribute 'id_number'"
     ]
    }
   ],
   "source": [
    "# what happens if I try to retrieve an attribute that doesn't exist?\n",
    "\n",
    "p.id_number"
   ]
  },
  {
   "cell_type": "markdown",
   "metadata": {},
   "source": [
    "# Methods\n",
    "\n",
    "Normally, methods are\n",
    "\n",
    "- defined on the class (in the class body, with `def`)\n",
    "- invoked on the instance\n",
    "\n",
    "But we saw that actually, Python does some rewriting here:\n",
    "\n",
    "    an_instance.a_method()\n",
    "\n",
    "this is rewritten, silently and behind the scenes, to:\n",
    "\n",
    "    a_class.a_method(an_instance)\n",
    "\n",
    "(this assumes that `a_class` is the class for `an_instance`.    As you can see, the instance is moved into the first argument position, which means that it'll be assigned to `self`."
   ]
  },
  {
   "cell_type": "markdown",
   "metadata": {},
   "source": [
    "# Exercise: Cellphone\n",
    "\n",
    "1. Define a `Cellphone` class. Each instance wil have two attributes:\n",
    "    - `number`\n",
    "    - `model`\n",
    "2. You should be able to invoke the `call` method on your phone. It'll return a string saying, `'Calling...'` and print the number it's calling."
   ]
  },
  {
   "cell_type": "code",
   "execution_count": 4,
   "metadata": {},
   "outputs": [],
   "source": [
    "class Cellphone:\n",
    "    def __init__(self, number, model):\n",
    "        self.number = number\n",
    "        self.model = model\n",
    "\n",
    "c1 = Cellphone('12345', 'iPhone')\n",
    "c2 = Cellphone('67890', 'Samsung')"
   ]
  },
  {
   "cell_type": "code",
   "execution_count": 5,
   "metadata": {},
   "outputs": [
    {
     "data": {
      "text/plain": [
       "{'number': '12345', 'model': 'iPhone'}"
      ]
     },
     "execution_count": 5,
     "metadata": {},
     "output_type": "execute_result"
    }
   ],
   "source": [
    "vars(c1)"
   ]
  },
  {
   "cell_type": "code",
   "execution_count": 6,
   "metadata": {},
   "outputs": [
    {
     "data": {
      "text/plain": [
       "{'number': '67890', 'model': 'Samsung'}"
      ]
     },
     "execution_count": 6,
     "metadata": {},
     "output_type": "execute_result"
    }
   ],
   "source": [
    "vars(c2)"
   ]
  },
  {
   "cell_type": "code",
   "execution_count": 7,
   "metadata": {},
   "outputs": [
    {
     "data": {
      "text/plain": [
       "'12345'"
      ]
     },
     "execution_count": 7,
     "metadata": {},
     "output_type": "execute_result"
    }
   ],
   "source": [
    "c1.number"
   ]
  },
  {
   "cell_type": "code",
   "execution_count": 8,
   "metadata": {},
   "outputs": [
    {
     "data": {
      "text/plain": [
       "'67890'"
      ]
     },
     "execution_count": 8,
     "metadata": {},
     "output_type": "execute_result"
    }
   ],
   "source": [
    "c2.number"
   ]
  },
  {
   "cell_type": "code",
   "execution_count": 9,
   "metadata": {},
   "outputs": [
    {
     "data": {
      "text/plain": [
       "'iPhone'"
      ]
     },
     "execution_count": 9,
     "metadata": {},
     "output_type": "execute_result"
    }
   ],
   "source": [
    "c1.model"
   ]
  },
  {
   "cell_type": "code",
   "execution_count": 10,
   "metadata": {},
   "outputs": [
    {
     "data": {
      "text/plain": [
       "'Samsung'"
      ]
     },
     "execution_count": 10,
     "metadata": {},
     "output_type": "execute_result"
    }
   ],
   "source": [
    "c2.model"
   ]
  },
  {
   "cell_type": "code",
   "execution_count": 11,
   "metadata": {},
   "outputs": [],
   "source": [
    "class Cellphone:\n",
    "    def __init__(self, number, model):\n",
    "        self.number = number\n",
    "        self.model = model\n",
    "    def call(self):\n",
    "        return f'Calling {self.number} on your {self.model}...'\n",
    "\n",
    "c1 = Cellphone('12345', 'iPhone')\n",
    "c2 = Cellphone('67890', 'Samsung')"
   ]
  },
  {
   "cell_type": "code",
   "execution_count": 12,
   "metadata": {},
   "outputs": [
    {
     "data": {
      "text/plain": [
       "'Calling 12345 on your iPhone...'"
      ]
     },
     "execution_count": 12,
     "metadata": {},
     "output_type": "execute_result"
    }
   ],
   "source": [
    "c1.call()"
   ]
  },
  {
   "cell_type": "code",
   "execution_count": 13,
   "metadata": {},
   "outputs": [
    {
     "data": {
      "text/plain": [
       "'Calling 67890 on your Samsung...'"
      ]
     },
     "execution_count": 13,
     "metadata": {},
     "output_type": "execute_result"
    }
   ],
   "source": [
    "c2.call()"
   ]
  },
  {
   "cell_type": "markdown",
   "metadata": {},
   "source": [
    "# Single Repsonsibility Principle\n",
    "\n",
    "This means: A class should do one thing, and only one thing. If you try to stuff lots of functionality into a particular class, it'll be hard to read/write/maintain."
   ]
  },
  {
   "cell_type": "markdown",
   "metadata": {},
   "source": [
    "# Magic methods\n",
    "\n",
    "When we perform certain operations in Python, the language looks for a method with a specific name that implements that operation. These methods all start and end with double underscores. So they're often known as \"dunder methods,\" but they are also known as \"magic methods.\" You usually don't want to invoke them directly yourself; the idea is that Python will invoke them on your behalf in certain situations.\n",
    "\n",
    "This means that if you want to give your object some standard Python functionality that people expect on other objects, then you can pretty easily do that."
   ]
  },
  {
   "cell_type": "markdown",
   "metadata": {},
   "source": [
    "# First magic method: `__len__`\n",
    "\n",
    "What happens if I call `len` (the function) on a `Person` object?"
   ]
  },
  {
   "cell_type": "code",
   "execution_count": 14,
   "metadata": {},
   "outputs": [],
   "source": [
    "p = Person('Reuven', 46)"
   ]
  },
  {
   "cell_type": "code",
   "execution_count": 15,
   "metadata": {},
   "outputs": [
    {
     "ename": "TypeError",
     "evalue": "object of type 'Person' has no len()",
     "output_type": "error",
     "traceback": [
      "\u001b[31m---------------------------------------------------------------------------\u001b[39m",
      "\u001b[31mTypeError\u001b[39m                                 Traceback (most recent call last)",
      "\u001b[36mCell\u001b[39m\u001b[36m \u001b[39m\u001b[32mIn[15]\u001b[39m\u001b[32m, line 1\u001b[39m\n\u001b[32m----> \u001b[39m\u001b[32m1\u001b[39m \u001b[38;5;28;43mlen\u001b[39;49m\u001b[43m(\u001b[49m\u001b[43mp\u001b[49m\u001b[43m)\u001b[49m\n",
      "\u001b[31mTypeError\u001b[39m: object of type 'Person' has no len()"
     ]
    }
   ],
   "source": [
    "len(p)"
   ]
  },
  {
   "cell_type": "markdown",
   "metadata": {},
   "source": [
    "# What happened?\n",
    "\n",
    "When we call `len` (the function), it looks for a special (magic) method on the object called `__len__`. If that method exists, it is invoked and `len` returns the result from that method.\n",
    "\n",
    "We can call `len` on many different objects:\n",
    "\n",
    "- If we get the `len` of a list, we get the number of elements\n",
    "- If we get the `len` of a string, we get the number of characters\n",
    "- If we get the `len` of a dict, we get the number of keys\n",
    "\n",
    "`len` doesn't have to know about all of these different data structures! It can just invoke `__len__`, outsourcing it to the method on that class, and be done with it."
   ]
  },
  {
   "cell_type": "code",
   "execution_count": 16,
   "metadata": {},
   "outputs": [
    {
     "data": {
      "text/plain": [
       "'Hello, Reuven'"
      ]
     },
     "execution_count": 16,
     "metadata": {},
     "output_type": "execute_result"
    }
   ],
   "source": [
    "class Person:\n",
    "    def __init__(self, name, shoe_size):\n",
    "        self.name = name\n",
    "        self.shoe_size = shoe_size\n",
    "        self.bank_account = 0\n",
    "\n",
    "    def greet(self):\n",
    "        return f'Hello, {self.name}'\n",
    "\n",
    "    def __len__(self):   # __len__ takes only self, and must return an integer\n",
    "        return self.shoe_size\n",
    "\n",
    "p = Person('Reuven', 46)\n",
    "p.greet()   # we invoke the greet method on p, which results in Person.greet(p), which returns..."
   ]
  },
  {
   "cell_type": "code",
   "execution_count": 17,
   "metadata": {},
   "outputs": [
    {
     "data": {
      "text/plain": [
       "46"
      ]
     },
     "execution_count": 17,
     "metadata": {},
     "output_type": "execute_result"
    }
   ],
   "source": [
    "len(p)"
   ]
  },
  {
   "cell_type": "code",
   "execution_count": 18,
   "metadata": {},
   "outputs": [
    {
     "ename": "TypeError",
     "evalue": "object of type 'int' has no len()",
     "output_type": "error",
     "traceback": [
      "\u001b[31m---------------------------------------------------------------------------\u001b[39m",
      "\u001b[31mTypeError\u001b[39m                                 Traceback (most recent call last)",
      "\u001b[36mCell\u001b[39m\u001b[36m \u001b[39m\u001b[32mIn[18]\u001b[39m\u001b[32m, line 3\u001b[39m\n\u001b[32m      1\u001b[39m \u001b[38;5;66;03m# plenty of objects have no len!\u001b[39;00m\n\u001b[32m----> \u001b[39m\u001b[32m3\u001b[39m \u001b[38;5;28;43mlen\u001b[39;49m\u001b[43m(\u001b[49m\u001b[32;43m10\u001b[39;49m\u001b[43m)\u001b[49m\n",
      "\u001b[31mTypeError\u001b[39m: object of type 'int' has no len()"
     ]
    }
   ],
   "source": [
    "# plenty of objects have no len!\n",
    "\n",
    "len(10)"
   ]
  },
  {
   "cell_type": "markdown",
   "metadata": {},
   "source": [
    "# Don't invoke `__len__` yourself!\n",
    "\n",
    "Generally speaking, you don't want to invoke magic methods directly. They are \"callbacks,\" meaning that we install them and Python invokes them on our behalf."
   ]
  },
  {
   "cell_type": "markdown",
   "metadata": {},
   "source": [
    "# Exericse: How many scoops?\n",
    "\n",
    "We're going to return to our `Bowl` class from yesterday. Someone might want to know how many scoops are currently in the bowl.\n",
    "\n",
    "1. Add `__len__` method.\n",
    "2. Use it, both before and after adding scoops. Make sure it works."
   ]
  },
  {
   "cell_type": "markdown",
   "metadata": {},
   "source": [
    "# What does it mean for Python to run a magic method on our behalf?\n",
    "\n",
    "Normally, if I want to run a function, I just run it:\n",
    "\n",
    "    a_function()\n",
    "\n",
    "In the case of a magic method, that's not how it works. Rather, I basically register the method with Python, and I say, \"When the situation is appropriate, run this method.\" I define `__len__` on my class, and then I never run it directly. Rather, when I invoke `len` on my object, Python says, \"aha! I should run `__len__` now, and does so."
   ]
  },
  {
   "cell_type": "code",
   "execution_count": 20,
   "metadata": {},
   "outputs": [
    {
     "name": "stdout",
     "output_type": "stream",
     "text": [
      "Before, 0 scoops\n",
      "After, 3 scoops\n"
     ]
    }
   ],
   "source": [
    "class Scoop:\n",
    "    def __init__(self, flavor):\n",
    "        self.flavor = flavor\n",
    "\n",
    "s1 = Scoop('chocolate')\n",
    "s2 = Scoop('vanilla')\n",
    "s3 = Scoop('coffee')\n",
    "\n",
    "class Bowl:\n",
    "    def __init__(self):\n",
    "        self.scoops = []   # initialize an empty list of scoops\n",
    "    def add_scoop(self, one_scoop):\n",
    "        self.scoops.append(one_scoop)   # add the scoop we were passed to self.scoops\n",
    "    def __len__(self):\n",
    "        return len(self.scoops)\n",
    "\n",
    "b = Bowl()\n",
    "print(f'Before, {len(b)} scoops')\n",
    "b.add_scoop(s1)\n",
    "b.add_scoop(s2)\n",
    "b.add_scoop(s3)\n",
    "print(f'After, {len(b)} scoops')"
   ]
  },
  {
   "cell_type": "markdown",
   "metadata": {},
   "source": [
    "# Another magic method: `__str__`\n",
    "\n",
    "You might remember that we tried to print our objects yesterday, and ... it didn't go well."
   ]
  },
  {
   "cell_type": "code",
   "execution_count": 21,
   "metadata": {},
   "outputs": [
    {
     "data": {
      "text/plain": [
       "{'name': 'Reuven'}"
      ]
     },
     "execution_count": 21,
     "metadata": {},
     "output_type": "execute_result"
    }
   ],
   "source": [
    "class Person:\n",
    "    def __init__(self, name):\n",
    "        self.name = name\n",
    "\n",
    "p = Person('Reuven')\n",
    "vars(p)"
   ]
  },
  {
   "cell_type": "code",
   "execution_count": 22,
   "metadata": {},
   "outputs": [
    {
     "name": "stdout",
     "output_type": "stream",
     "text": [
      "<__main__.Person object at 0x10d50ee40>\n"
     ]
    }
   ],
   "source": [
    "print(p)  # what will we see?"
   ]
  },
  {
   "cell_type": "code",
   "execution_count": 23,
   "metadata": {},
   "outputs": [
    {
     "data": {
      "text/plain": [
       "{'name': 'Reuven'}"
      ]
     },
     "execution_count": 23,
     "metadata": {},
     "output_type": "execute_result"
    }
   ],
   "source": [
    "# what's really happening here?\n",
    "# when we say print(something), Python turns that into print(str(something))\n",
    "\n",
    "# when we say str(x), this then looks for x.__str__() -- it looks for a magic method!\n",
    "# if we define __str__ on our object, we can make it print out however we want!\n",
    "\n",
    "class Person:\n",
    "    def __init__(self, name):\n",
    "        self.name = name\n",
    "    def __str__(self):\n",
    "        return f'Person named {self.name}'\n",
    "\n",
    "p = Person('Reuven')\n",
    "vars(p)"
   ]
  },
  {
   "cell_type": "code",
   "execution_count": 24,
   "metadata": {},
   "outputs": [
    {
     "name": "stdout",
     "output_type": "stream",
     "text": [
      "Person named Reuven\n"
     ]
    }
   ],
   "source": [
    "print(p)"
   ]
  },
  {
   "cell_type": "markdown",
   "metadata": {},
   "source": [
    "Nearly every class defines `__str__`, because nearly every class wants to make itself printable/viewable by other people."
   ]
  },
  {
   "cell_type": "markdown",
   "metadata": {},
   "source": [
    "# Exercise: Printable scoops\n",
    "\n",
    "Modify `Scoop` such that when you `print` it or invoke `str` on it, you get back a string saying, `Scoop of FLAVOR`."
   ]
  },
  {
   "cell_type": "code",
   "execution_count": 26,
   "metadata": {},
   "outputs": [
    {
     "name": "stdout",
     "output_type": "stream",
     "text": [
      "Before, 0 scoops\n",
      "After, 3 scoops\n",
      "Scoop of chocolate\n",
      "Scoop of vanilla\n",
      "Scoop of coffee\n"
     ]
    }
   ],
   "source": [
    "class Scoop:\n",
    "    def __init__(self, flavor):\n",
    "        self.flavor = flavor\n",
    "    def __str__(self):\n",
    "        return f'Scoop of {self.flavor}'\n",
    "\n",
    "s1 = Scoop('chocolate')\n",
    "s2 = Scoop('vanilla')\n",
    "s3 = Scoop('coffee')\n",
    "\n",
    "class Bowl:\n",
    "    def __init__(self):\n",
    "        self.scoops = []   # initialize an empty list of scoops\n",
    "    def add_scoop(self, one_scoop):\n",
    "        self.scoops.append(one_scoop)   # add the scoop we were passed to self.scoops\n",
    "    def __len__(self):\n",
    "        return len(self.scoops)\n",
    "\n",
    "b = Bowl()\n",
    "print(f'Before, {len(b)} scoops')\n",
    "b.add_scoop(s1)\n",
    "b.add_scoop(s2)\n",
    "b.add_scoop(s3)\n",
    "print(f'After, {len(b)} scoops')\n",
    "\n",
    "print(s1)\n",
    "print(s2)\n",
    "print(s3)"
   ]
  },
  {
   "cell_type": "code",
   "execution_count": 27,
   "metadata": {},
   "outputs": [
    {
     "data": {
      "text/plain": [
       "[<__main__.Scoop at 0x10d50f0e0>,\n",
       " <__main__.Scoop at 0x10d534cd0>,\n",
       " <__main__.Scoop at 0x10d535450>]"
      ]
     },
     "execution_count": 27,
     "metadata": {},
     "output_type": "execute_result"
    }
   ],
   "source": [
    "b.scoops  # let's look at our list of scoops in the bowl..."
   ]
  },
  {
   "cell_type": "markdown",
   "metadata": {},
   "source": [
    "# Next up\n",
    "\n",
    "1. The other string magic method, `__repr__`\n",
    "2. Class attributes\n"
   ]
  },
  {
   "cell_type": "markdown",
   "metadata": {},
   "source": [
    "# What's going on here?\n",
    "\n",
    "`__str__` works exactly as I told you:\n",
    "\n",
    "- We try to `print` something, or we run `str` on something\n",
    "- In either case, that results in running `__str__` on the object\n",
    "- If we define `__str__`, we overwrite the default behavior\n",
    "\n",
    "In the case we just saw, of objects in a list, we aren't actually printing or invoking `str`. Rather, we're getting the \"printed representation\" of the object, aka \"the repr.\" The repr is really meant for programmers, for internal use in a program, or when debugging. But we can see it in Jupyter very easily?"
   ]
  },
  {
   "cell_type": "code",
   "execution_count": 28,
   "metadata": {},
   "outputs": [
    {
     "name": "stdout",
     "output_type": "stream",
     "text": [
      "Scoop of chocolate\n"
     ]
    }
   ],
   "source": [
    "print(s1)  # here, I'm printing s1, so I'll get its __str__"
   ]
  },
  {
   "cell_type": "code",
   "execution_count": 29,
   "metadata": {},
   "outputs": [
    {
     "data": {
      "text/plain": [
       "<__main__.Scoop at 0x10d50f0e0>"
      ]
     },
     "execution_count": 29,
     "metadata": {},
     "output_type": "execute_result"
    }
   ],
   "source": [
    "s1   # here, I'm just typing s1, so I'll get its printed representation"
   ]
  },
  {
   "cell_type": "code",
   "execution_count": 30,
   "metadata": {},
   "outputs": [
    {
     "data": {
      "text/plain": [
       "'<__main__.Scoop object at 0x10d50f0e0>'"
      ]
     },
     "execution_count": 30,
     "metadata": {},
     "output_type": "execute_result"
    }
   ],
   "source": [
    "repr(s1)  #you can invoke this, but no one does"
   ]
  },
  {
   "cell_type": "markdown",
   "metadata": {},
   "source": [
    "# What do we do about this?\n",
    "\n",
    "We can override the default behavior for repr with the `__repr__` method. If you define both `__str__` and `__repr__`, your object will know how to turn itself into a string both for the world at large (`__str__`) and for developers and internal usage (`__repr__`.)\n",
    "\n",
    "But.... if you only define `__repr__`, then it handles both cases. So you can just define that one method, and it'll do the right thing.\n",
    "\n",
    "Officially, according to the Python documentation, `__repr__` should always return a string that can execute in Python. And it's meant for internal use. So in theory, we shouldn't really mix the two.\n",
    "\n",
    "In practice, I only define `__repr__` unless I want a distinction between what programmers see and what regular users see. In that case, I create a separate `__str__` method."
   ]
  },
  {
   "cell_type": "code",
   "execution_count": 31,
   "metadata": {},
   "outputs": [
    {
     "name": "stdout",
     "output_type": "stream",
     "text": [
      "Before, 0 scoops\n",
      "After, 3 scoops\n",
      "[str] Scoop of chocolate\n",
      "[str] Scoop of vanilla\n",
      "[str] Scoop of coffee\n"
     ]
    }
   ],
   "source": [
    "class Scoop:\n",
    "    def __init__(self, flavor):\n",
    "        self.flavor = flavor\n",
    "    def __str__(self):\n",
    "        return f'[str] Scoop of {self.flavor}'\n",
    "    def __repr__(self):\n",
    "        return f'[repr] Scoop of {self.flavor}'\n",
    "\n",
    "s1 = Scoop('chocolate')\n",
    "s2 = Scoop('vanilla')\n",
    "s3 = Scoop('coffee')\n",
    "\n",
    "class Bowl:\n",
    "    def __init__(self):\n",
    "        self.scoops = []   # initialize an empty list of scoops\n",
    "    def add_scoop(self, one_scoop):\n",
    "        self.scoops.append(one_scoop)   # add the scoop we were passed to self.scoops\n",
    "    def __len__(self):\n",
    "        return len(self.scoops)\n",
    "\n",
    "b = Bowl()\n",
    "print(f'Before, {len(b)} scoops')\n",
    "b.add_scoop(s1)\n",
    "b.add_scoop(s2)\n",
    "b.add_scoop(s3)\n",
    "print(f'After, {len(b)} scoops')\n",
    "\n",
    "print(s1)\n",
    "print(s2)\n",
    "print(s3)"
   ]
  },
  {
   "cell_type": "code",
   "execution_count": 32,
   "metadata": {},
   "outputs": [
    {
     "data": {
      "text/plain": [
       "[repr] Scoop of chocolate"
      ]
     },
     "execution_count": 32,
     "metadata": {},
     "output_type": "execute_result"
    }
   ],
   "source": [
    "s1"
   ]
  },
  {
   "cell_type": "code",
   "execution_count": 33,
   "metadata": {},
   "outputs": [
    {
     "data": {
      "text/plain": [
       "[[repr] Scoop of chocolate, [repr] Scoop of vanilla, [repr] Scoop of coffee]"
      ]
     },
     "execution_count": 33,
     "metadata": {},
     "output_type": "execute_result"
    }
   ],
   "source": [
    "b.scoops"
   ]
  },
  {
   "cell_type": "markdown",
   "metadata": {},
   "source": [
    "# Exercise: Using `__repr__`\n",
    "\n",
    "1. Modify `Scoop` such that it uses `__repr__` instead of `__str__`.\n",
    "2. Modify `Bowl` such that printing it returns a string that shows all of the scoops and their flavors. If you can number them, that's even better.\n",
    "\n",
    "Example:\n",
    "\n",
    "    print(b)\n",
    "\n",
    "    1. Scoop of chocolate\n",
    "    2. Scoop of vanilla\n",
    "    3. Scoop of coffee\n"
   ]
  },
  {
   "cell_type": "code",
   "execution_count": 51,
   "metadata": {},
   "outputs": [
    {
     "name": "stdout",
     "output_type": "stream",
     "text": [
      "Before, 0 scoops\n",
      "After, 3 scoops\n",
      "Scoop of chocolate\n",
      "Scoop of vanilla\n",
      "Scoop of coffee\n"
     ]
    }
   ],
   "source": [
    "class Scoop:\n",
    "    def __init__(self, flavor):\n",
    "        self.flavor = flavor\n",
    "    def __repr__(self):\n",
    "        return f'Scoop of {self.flavor}'\n",
    "\n",
    "s1 = Scoop('chocolate')\n",
    "s2 = Scoop('vanilla')\n",
    "s3 = Scoop('coffee')\n",
    "\n",
    "class Bowl:\n",
    "    def __init__(self):\n",
    "        self.scoops = []   # initialize an empty list of scoops\n",
    "    def add_scoop(self, one_scoop):\n",
    "        self.scoops.append(one_scoop)   # add the scoop we were passed to self.scoops\n",
    "    def __len__(self):\n",
    "        return len(self.scoops)\n",
    "    def __repr__(self):\n",
    "        output = ''\n",
    "\n",
    "        for index, one_scoop in enumerate(self.scoops, 1):\n",
    "            output += f'{index}: {one_scoop}\\n'\n",
    "\n",
    "        return output\n",
    "\n",
    "b = Bowl()\n",
    "print(f'Before, {len(b)} scoops')\n",
    "b.add_scoop(s1)\n",
    "b.add_scoop(s2)\n",
    "b.add_scoop(s3)\n",
    "print(f'After, {len(b)} scoops')\n",
    "\n",
    "print(s1)\n",
    "print(s2)\n",
    "print(s3)"
   ]
  },
  {
   "cell_type": "code",
   "execution_count": 52,
   "metadata": {},
   "outputs": [
    {
     "data": {
      "text/plain": [
       "Scoop of chocolate"
      ]
     },
     "execution_count": 52,
     "metadata": {},
     "output_type": "execute_result"
    }
   ],
   "source": [
    "s1"
   ]
  },
  {
   "cell_type": "code",
   "execution_count": 53,
   "metadata": {},
   "outputs": [
    {
     "name": "stdout",
     "output_type": "stream",
     "text": [
      "1: Scoop of chocolate\n",
      "2: Scoop of vanilla\n",
      "3: Scoop of coffee\n",
      "\n"
     ]
    }
   ],
   "source": [
    "print(b)"
   ]
  },
  {
   "cell_type": "markdown",
   "metadata": {},
   "source": [
    "# More on magic methods\n",
    "\n",
    "There are *dozens* of magic methods you can set on a class\n",
    "\n",
    "- `==` is handled by `__eq__`. Other comparison operators have their own methods.\n",
    "- `[]` is handled by `__getitem__`. So you can retrieve an element.\n",
    "- `+` and `-` and other operators have their own magic methods.\n",
    "- If you want to iterate over an object, there are `__iter__` and `__next__` magic methods\n",
    "\n",
    "The list goes on from there!"
   ]
  },
  {
   "cell_type": "markdown",
   "metadata": {},
   "source": [
    "# Class attributes\n",
    "\n",
    "We've seen that we can assign one or more attributes to any instance. We assigned to a `Person` object's `name` and `shoesize` attributes. We assigned to `flavor` in `Scoop` object.\n",
    "\n",
    "It turns out that everything in Python is an object! If our instances can have attributes, then so can our classes!\n",
    "\n",
    "But this raises lots of questions about what it means, why we would want this, and how it's connected to what we've done already."
   ]
  },
  {
   "cell_type": "markdown",
   "metadata": {},
   "source": [
    "# Scenario: `Person` object\n",
    "\n",
    "Our company ships software, including a very popular `Person` class. It looks like this:"
   ]
  },
  {
   "cell_type": "code",
   "execution_count": 55,
   "metadata": {},
   "outputs": [
    {
     "name": "stdout",
     "output_type": "stream",
     "text": [
      "Hello, name1.\n",
      "Hello, name2.\n"
     ]
    }
   ],
   "source": [
    "class Person:\n",
    "    def __init__(self, name):\n",
    "        self.name = name\n",
    "    def greet(self):\n",
    "        return f'Hello, {self.name}.'\n",
    "\n",
    "p1 = Person('name1')\n",
    "p2 = Person('name2')\n",
    "\n",
    "print(p1.greet())\n",
    "print(p2.greet())"
   ]
  },
  {
   "cell_type": "markdown",
   "metadata": {},
   "source": [
    "Our customers have demanded that we have a facility to know how many instances of `Person` we have created.\n",
    "\n",
    "My plan: I know that `__init__` is invoked when we create a new instance. I'll have a global variable, `population`, that we increment every time `__init__` is invoked."
   ]
  },
  {
   "cell_type": "code",
   "execution_count": 56,
   "metadata": {},
   "outputs": [
    {
     "name": "stdout",
     "output_type": "stream",
     "text": [
      "Before, population = 0\n"
     ]
    },
    {
     "ename": "UnboundLocalError",
     "evalue": "cannot access local variable 'population' where it is not associated with a value",
     "output_type": "error",
     "traceback": [
      "\u001b[31m---------------------------------------------------------------------------\u001b[39m",
      "\u001b[31mUnboundLocalError\u001b[39m                         Traceback (most recent call last)",
      "\u001b[36mCell\u001b[39m\u001b[36m \u001b[39m\u001b[32mIn[56]\u001b[39m\u001b[32m, line 11\u001b[39m\n\u001b[32m      8\u001b[39m         \u001b[38;5;28;01mreturn\u001b[39;00m \u001b[33mf\u001b[39m\u001b[33m'\u001b[39m\u001b[33mHello, \u001b[39m\u001b[38;5;132;01m{\u001b[39;00m\u001b[38;5;28mself\u001b[39m.name\u001b[38;5;132;01m}\u001b[39;00m\u001b[33m.\u001b[39m\u001b[33m'\u001b[39m\n\u001b[32m     10\u001b[39m \u001b[38;5;28mprint\u001b[39m(\u001b[33mf\u001b[39m\u001b[33m'\u001b[39m\u001b[33mBefore, population = \u001b[39m\u001b[38;5;132;01m{\u001b[39;00mpopulation\u001b[38;5;132;01m}\u001b[39;00m\u001b[33m'\u001b[39m)\n\u001b[32m---> \u001b[39m\u001b[32m11\u001b[39m p1 = \u001b[43mPerson\u001b[49m\u001b[43m(\u001b[49m\u001b[33;43m'\u001b[39;49m\u001b[33;43mname1\u001b[39;49m\u001b[33;43m'\u001b[39;49m\u001b[43m)\u001b[49m\n\u001b[32m     12\u001b[39m p2 = Person(\u001b[33m'\u001b[39m\u001b[33mname2\u001b[39m\u001b[33m'\u001b[39m)\n\u001b[32m     13\u001b[39m \u001b[38;5;28mprint\u001b[39m(\u001b[33mf\u001b[39m\u001b[33m'\u001b[39m\u001b[33mAfter, population = \u001b[39m\u001b[38;5;132;01m{\u001b[39;00mpopulation\u001b[38;5;132;01m}\u001b[39;00m\u001b[33m'\u001b[39m)\n",
      "\u001b[36mCell\u001b[39m\u001b[36m \u001b[39m\u001b[32mIn[56]\u001b[39m\u001b[32m, line 6\u001b[39m, in \u001b[36mPerson.__init__\u001b[39m\u001b[34m(self, name)\u001b[39m\n\u001b[32m      4\u001b[39m \u001b[38;5;28;01mdef\u001b[39;00m\u001b[38;5;250m \u001b[39m\u001b[34m__init__\u001b[39m(\u001b[38;5;28mself\u001b[39m, name):\n\u001b[32m      5\u001b[39m     \u001b[38;5;28mself\u001b[39m.name = name\n\u001b[32m----> \u001b[39m\u001b[32m6\u001b[39m     \u001b[43mpopulation\u001b[49m += \u001b[32m1\u001b[39m\n",
      "\u001b[31mUnboundLocalError\u001b[39m: cannot access local variable 'population' where it is not associated with a value"
     ]
    }
   ],
   "source": [
    "population = 0\n",
    "\n",
    "class Person:\n",
    "    def __init__(self, name):\n",
    "        self.name = name\n",
    "        population += 1\n",
    "    def greet(self):\n",
    "        return f'Hello, {self.name}.'\n",
    "\n",
    "print(f'Before, population = {population}')\n",
    "p1 = Person('name1')\n",
    "p2 = Person('name2')\n",
    "print(f'After, population = {population}')\n",
    "\n",
    "print(p1.greet())\n",
    "print(p2.greet())"
   ]
  },
  {
   "cell_type": "markdown",
   "metadata": {},
   "source": [
    "The problem with the above code is that inside of a function, assigning to a variable (anywhere!) makes the variable local. It means that we no longer look outside of the function for a variable of that name. No longer is `population` going to be the global variable.\n",
    "\n",
    "We try to read from `population`, the local variable, but it doesn't have a value yet! As such, we get the `UnboundLocalError`."
   ]
  },
  {
   "cell_type": "code",
   "execution_count": 57,
   "metadata": {},
   "outputs": [
    {
     "name": "stdout",
     "output_type": "stream",
     "text": [
      "Before, population = 0\n",
      "After, population = 2\n",
      "Hello, name1.\n",
      "Hello, name2.\n"
     ]
    }
   ],
   "source": [
    "# one way to solve this is to tell the function: Even though I'm assigning to population,\n",
    "# don't make it a local variable. Keep it global.\n",
    "\n",
    "population = 0\n",
    "\n",
    "class Person:\n",
    "    def __init__(self, name):\n",
    "        global population    # this is a declaration to Python's compiler\n",
    "        self.name = name\n",
    "        population += 1\n",
    "    def greet(self):\n",
    "        return f'Hello, {self.name}.'\n",
    "\n",
    "print(f'Before, population = {population}')\n",
    "p1 = Person('name1')\n",
    "p2 = Person('name2')\n",
    "print(f'After, population = {population}')\n",
    "\n",
    "print(p1.greet())\n",
    "print(p2.greet())"
   ]
  },
  {
   "cell_type": "markdown",
   "metadata": {},
   "source": [
    "If you're using the `global` declaration, you're probably doing something wrong.\n",
    "\n",
    "Let's try another approach: Everything in Python is an object. Every object has attributes. We can assign (and thus create) any attribute we want on any object we want.\n",
    "\n",
    "What if we assign `population` to our `Person` class? That is, we'll say\n",
    "\n",
    "    Person.population += 1\n",
    "\n",
    "No longer will we have to worry about global and local variables, because this isn't a variable! This is an attribute!    "
   ]
  },
  {
   "cell_type": "code",
   "execution_count": 58,
   "metadata": {},
   "outputs": [
    {
     "name": "stdout",
     "output_type": "stream",
     "text": [
      "Before, population = 0\n",
      "After, population = 2\n",
      "Hello, name1.\n",
      "Hello, name2.\n"
     ]
    }
   ],
   "source": [
    "class Person:\n",
    "    def __init__(self, name):\n",
    "        self.name = name\n",
    "        Person.population += 1\n",
    "    def greet(self):\n",
    "        return f'Hello, {self.name}.'\n",
    "\n",
    "# after creating the Person class, let's add a new attribute to it\n",
    "Person.population = 0\n",
    "\n",
    "print(f'Before, population = {Person.population}')\n",
    "p1 = Person('name1')\n",
    "p2 = Person('name2')\n",
    "print(f'After, population = {Person.population}')\n",
    "\n",
    "print(p1.greet())\n",
    "print(p2.greet())"
   ]
  },
  {
   "cell_type": "markdown",
   "metadata": {},
   "source": [
    "There is technically nothing wrong with what we've done.\n",
    "\n",
    "But we can make it nicer, style-wise.\n",
    "\n",
    "Because if we stick an assignment to `population` inside of the class, it is *not* a variable definition, but rather a class attribute definition. "
   ]
  },
  {
   "cell_type": "code",
   "execution_count": 59,
   "metadata": {},
   "outputs": [
    {
     "name": "stdout",
     "output_type": "stream",
     "text": [
      "Before, population = 0\n",
      "After, population = 2\n",
      "Hello, name1.\n",
      "Hello, name2.\n"
     ]
    }
   ],
   "source": [
    "class Person:\n",
    "    population = 0   # this is *NOT* a variable definition, but rather one of Person.population, a class attribute\n",
    "\n",
    "    def __init__(self, name):\n",
    "        self.name = name\n",
    "        Person.population += 1\n",
    "    def greet(self):\n",
    "        return f'Hello, {self.name}.'\n",
    "\n",
    "print(f'Before, population = {Person.population}')\n",
    "p1 = Person('name1')\n",
    "p2 = Person('name2')\n",
    "print(f'After, population = {Person.population}')\n",
    "\n",
    "print(p1.greet())\n",
    "print(p2.greet())"
   ]
  },
  {
   "cell_type": "markdown",
   "metadata": {},
   "source": [
    "# Why do we need class attributes?\n",
    "\n",
    "If you have a value that is common to all instances, and you need a convenient place to stick it, the class works pretty well. Usually, there are two uses for class attributes:\n",
    "\n",
    "- Constants, that everyone needs, and this is a convenient place to put them\n",
    "- Shared values/state that multiple instances might need to access or update\n"
   ]
  },
  {
   "cell_type": "markdown",
   "metadata": {},
   "source": [
    "# Exercise: Limit the bowl size\n",
    "\n",
    "We are going to modify our `Bowl` class, such that you can invoke `add_scoop` or `add_scoops` as many times as you want -- but only up to 3 scoops will actually be added. Any others will be ignored.\n",
    "\n",
    "Don't hard-code the number 3 into the methods `add_scoop` and `add_scoops`. Rather, define a class attribute, `MAX_SCOOPS` to be 3, so that everyone can access it."
   ]
  },
  {
   "cell_type": "code",
   "execution_count": 62,
   "metadata": {},
   "outputs": [
    {
     "name": "stdout",
     "output_type": "stream",
     "text": [
      "1: Scoop of chocolate\n",
      "2: Scoop of vanilla\n",
      "3: Scoop of coffee\n",
      "\n"
     ]
    }
   ],
   "source": [
    "class Scoop:\n",
    "    def __init__(self, flavor):\n",
    "        self.flavor = flavor\n",
    "    def __repr__(self):\n",
    "        return f'Scoop of {self.flavor}'\n",
    "\n",
    "s1 = Scoop('chocolate')\n",
    "s2 = Scoop('vanilla')\n",
    "s3 = Scoop('coffee')\n",
    "\n",
    "class Bowl: \n",
    "    MAX_SCOOPS = 3    # class attribute! \n",
    "    \n",
    "    def __init__(self):\n",
    "        self.scoops = []   # initialize an empty list of scoops\n",
    "    def add_scoops(self, *new_scoops):\n",
    "        for one_scoop in new_scoops:\n",
    "            if len(self.scoops) >= Bowl.MAX_SCOOPS:\n",
    "                break\n",
    "            self.scoops.append(one_scoop)\n",
    "    def __repr__(self):\n",
    "        output = ''\n",
    "\n",
    "        for index, one_scoop in enumerate(self.scoops, 1):\n",
    "            output += f'{index}: {one_scoop}\\n'\n",
    "\n",
    "        return output\n",
    "\n",
    "b = Bowl()\n",
    "b.add_scoops(s1, s2)\n",
    "b.add_scoops(s3)\n",
    "\n",
    "s4 = Scoop('flavor 4')\n",
    "s5 = Scoop('flavor 5')\n",
    "s6 = Scoop('flavor 6')\n",
    "b.add_scoops(s4, s5)\n",
    "b.add_scoops(s6)\n",
    "\n",
    "print(b)"
   ]
  },
  {
   "cell_type": "markdown",
   "metadata": {},
   "source": [
    "# Next up\n",
    "\n",
    "1. Attribute lookup and ICPO rule\n",
    "2. Inheritance\n"
   ]
  },
  {
   "cell_type": "code",
   "execution_count": 63,
   "metadata": {},
   "outputs": [
    {
     "name": "stdout",
     "output_type": "stream",
     "text": [
      "Before, population = 0\n",
      "After, population = 2\n",
      "Hello, name1.\n",
      "Hello, name2.\n"
     ]
    }
   ],
   "source": [
    "class Person:\n",
    "    population = 0    # class attribute -- meaning, an attribute on the class\n",
    "\n",
    "    def __init__(self, name):\n",
    "        self.name = name\n",
    "        Person.population += 1\n",
    "    def greet(self):\n",
    "        return f'Hello, {self.name}.'\n",
    "\n",
    "print(f'Before, population = {Person.population}')\n",
    "p1 = Person('name1')\n",
    "p2 = Person('name2')\n",
    "print(f'After, population = {Person.population}')\n",
    "\n",
    "print(p1.greet())\n",
    "print(p2.greet())"
   ]
  },
  {
   "cell_type": "markdown",
   "metadata": {},
   "source": [
    "Given the above definitions, someone from another programming language might wonder: Maybe `population` is shared by `Person`, `p1`, and `p2`. Can we retrieve `population` via `p1` and `p2`?"
   ]
  },
  {
   "cell_type": "code",
   "execution_count": 64,
   "metadata": {},
   "outputs": [
    {
     "name": "stdout",
     "output_type": "stream",
     "text": [
      "Before, population = 0\n",
      "After, population = 2\n",
      "After, p1.population = 2\n",
      "After, p2.population = 2\n",
      "Hello, name1.\n",
      "Hello, name2.\n"
     ]
    }
   ],
   "source": [
    "# let's modify the code so that it includes retrieving from p1 and p2\n",
    "\n",
    "class Person:\n",
    "    population = 0    # class attribute -- meaning, an attribute on the class\n",
    "\n",
    "    def __init__(self, name):\n",
    "        self.name = name\n",
    "        Person.population += 1\n",
    "    def greet(self):\n",
    "        return f'Hello, {self.name}.'\n",
    "\n",
    "print(f'Before, population = {Person.population}')\n",
    "p1 = Person('name1')\n",
    "p2 = Person('name2')\n",
    "print(f'After, population = {Person.population}')\n",
    "print(f'After, p1.population = {p1.population}')\n",
    "print(f'After, p2.population = {p2.population}')\n",
    "\n",
    "print(p1.greet())\n",
    "print(p2.greet())"
   ]
  },
  {
   "cell_type": "markdown",
   "metadata": {},
   "source": [
    "How can this be? If `population` is an attribute on `Person`, then how can it be that we're able to retrieve it via `p1` and `p2`? What's going on?\n"
   ]
  }
 ],
 "metadata": {
  "kernelspec": {
   "display_name": "Python 3 (ipykernel)",
   "language": "python",
   "name": "python3"
  },
  "language_info": {
   "codemirror_mode": {
    "name": "ipython",
    "version": 3
   },
   "file_extension": ".py",
   "mimetype": "text/x-python",
   "name": "python",
   "nbconvert_exporter": "python",
   "pygments_lexer": "ipython3",
   "version": "3.13.2"
  }
 },
 "nbformat": 4,
 "nbformat_minor": 4
}
