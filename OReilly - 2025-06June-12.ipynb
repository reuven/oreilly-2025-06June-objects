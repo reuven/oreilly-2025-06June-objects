{
 "cells": [
  {
   "cell_type": "markdown",
   "metadata": {},
   "source": [
    "# Agenda, day 2\n",
    "\n",
    "1. Recap + Q&A\n",
    "2. Magic methods\n",
    "3. Class attributes\n",
    "4. Finding attributes with ICPO\n",
    "5. Inheritance -- what is it, and how it works (hint: ICPO)\n",
    "6. What next?"
   ]
  },
  {
   "cell_type": "markdown",
   "metadata": {},
   "source": [
    "# Recap\n",
    "\n",
    "It's always easiest to write a program when the data structure is appropriate for the problem you're trying to solve.\n",
    "\n",
    "In object-oriented programming, we're trying to create custom data structures that are appropriate for solving our custom problems. By defining these custom data structures, we're also able to think at a higher level, talking about the objects we create, rather than the underlying abstract data structures.\n",
    "\n",
    "- By putting these core data structures (e.g., strings, lists, and dicts) inside of a class, we can think and reason about our data at a higher level, and then use our class in other classes.\n",
    "- Methods (verbs) are defined on the class, whihc means that they are tightly bound to a particular data type. Regular functions can be invoked with any type of value, whether it's appropriate or not, whether it'll lead to a crash or not. A method is only available on objects for which it's appropriate. It's easier to get a list of methods on an object, and choose from those, than to look at an (infinitely long) list of functions and figure out what would work with your object.\n",
    "- We define classes (i.e., new data types). A type is a class, and a class is a type. A class is also a factory for creating objects of its type. A `Person` class creates new objects of type `Person` --"
   ]
  }
 ],
 "metadata": {
  "kernelspec": {
   "display_name": "Python 3 (ipykernel)",
   "language": "python",
   "name": "python3"
  },
  "language_info": {
   "codemirror_mode": {
    "name": "ipython",
    "version": 3
   },
   "file_extension": ".py",
   "mimetype": "text/x-python",
   "name": "python",
   "nbconvert_exporter": "python",
   "pygments_lexer": "ipython3",
   "version": "3.13.2"
  }
 },
 "nbformat": 4,
 "nbformat_minor": 4
}
