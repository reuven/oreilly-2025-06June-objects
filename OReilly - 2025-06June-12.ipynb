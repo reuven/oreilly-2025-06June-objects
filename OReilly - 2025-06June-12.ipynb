{
 "cells": [
  {
   "cell_type": "markdown",
   "metadata": {},
   "source": [
    "# Agenda, day 2\n",
    "\n",
    "1. Recap + Q&A\n",
    "2. Magic methods\n",
    "3. Class attributes\n",
    "4. Finding attributes with ICPO\n",
    "5. Inheritance -- what is it, and how it works (hint: ICPO)\n",
    "6. What next?"
   ]
  },
  {
   "cell_type": "markdown",
   "metadata": {},
   "source": [
    "# Recap\n",
    "\n",
    "It's always easiest to write a program when the data structure is appropriate for the problem you're trying to solve.\n",
    "\n",
    "In object-oriented programming, we're trying to create custom data structures that are appropriate for solving our custom problems. By defining these custom data structures, we're also able to think at a higher level, talking about the objects we create, rather than the underlying abstract data structures.\n",
    "\n",
    "- By putting these core data structures (e.g., strings, lists, and dicts) inside of a class, we can think and reason about our data at a higher level, and then use our class in other classes.\n",
    "- Methods (verbs) are defined on the class, whihc means that they are tightly bound to a particular data type. Regular functions can be invoked with any type of value, whether it's appropriate or not, whether it'll lead to a crash or not. A method is only available on objects for which it's appropriate. It's easier to get a list of methods on an object, and choose from those, than to look at an (infinitely long) list of functions and figure out what would work with your object.\n",
    "- We define classes (i.e., new data types). A type is a class, and a class is a type. A class is also a factory for creating objects of its type. A `Person` class creates new objects of type `Person` -- which we call *instances* of `Person`.\n",
    "- The most important method in a class is `__init__`, whose job is to add attributes after the object is created, but before it's returned to the caller. If you create 5 new instances of a class, then `__init__` will be invoked 5 times, once for each instance. Each time, the instance will be passed to `__init__` in `self`.\n",
    "- `__init__`, and *all* methods in Python, expect the first parameter to be called `self` (this is a convention, but a really strong one). That will always be the object on which we invoked the method. All further arguments are assigned to other parameters; the first parameter is always `self`.\n",
    "- When we assign to an attribute on `self`, we're basically storing in the object's private storage area. That storage area (\"attributes\") stick around even after the method exits. This is a way of \"keeping state\" on the object itself.\n",
    "- In theory, you could assign *all* of the attributes outside of `__init__`. Python won't stop you from doing that. However, because we want to make our object easier for people to understand, read, and maintain, we typically assign to all of our attributes in `__init__`, even if it'll be 0, the empty string, the empty list, etc.\n",
    "- To read from an attribute, just use `.NAME`, where `NAME` is the name of the attribute. On `x`, you can get `x.id_number` in that way.\n",
    "- To set an attribute, just assign to it. Your new value will replace the old one. (If the attribute didn't previously exist, it will now!)\n",
    "- To define a method, just define a function inside of the class body. The first parameter must be `self`, but other parameters can use all of the tricks that Python lets us use in our functions."
   ]
  },
  {
   "cell_type": "code",
   "execution_count": 2,
   "metadata": {},
   "outputs": [
    {
     "data": {
      "text/plain": [
       "'Hello, Reuven'"
      ]
     },
     "execution_count": 2,
     "metadata": {},
     "output_type": "execute_result"
    }
   ],
   "source": [
    "class Person:\n",
    "    def __init__(self, name, shoe_size):\n",
    "        self.name = name\n",
    "        self.shoe_size = shoe_size\n",
    "        self.bank_account = 0\n",
    "\n",
    "    def greet(self):\n",
    "        return f'Hello, {self.name}'\n",
    "\n",
    "p = Person('Reuven', 46)\n",
    "p.greet()   # we invoke the greet method on p, which results in Person.greet(p), which returns..."
   ]
  },
  {
   "cell_type": "code",
   "execution_count": 3,
   "metadata": {},
   "outputs": [
    {
     "ename": "AttributeError",
     "evalue": "'Person' object has no attribute 'id_number'",
     "output_type": "error",
     "traceback": [
      "\u001b[31m---------------------------------------------------------------------------\u001b[39m",
      "\u001b[31mAttributeError\u001b[39m                            Traceback (most recent call last)",
      "\u001b[36mCell\u001b[39m\u001b[36m \u001b[39m\u001b[32mIn[3]\u001b[39m\u001b[32m, line 3\u001b[39m\n\u001b[32m      1\u001b[39m \u001b[38;5;66;03m# what happens if I try to retrieve an attribute that doesn't exist?\u001b[39;00m\n\u001b[32m----> \u001b[39m\u001b[32m3\u001b[39m \u001b[43mp\u001b[49m\u001b[43m.\u001b[49m\u001b[43mid_number\u001b[49m\n",
      "\u001b[31mAttributeError\u001b[39m: 'Person' object has no attribute 'id_number'"
     ]
    }
   ],
   "source": [
    "# what happens if I try to retrieve an attribute that doesn't exist?\n",
    "\n",
    "p.id_number"
   ]
  },
  {
   "cell_type": "markdown",
   "metadata": {},
   "source": [
    "# Methods\n",
    "\n",
    "Normally, methods are\n",
    "\n",
    "- defined on the class (in the class body, with `def`)\n",
    "- invoked on the instance\n",
    "\n",
    "But we saw that actually, Python does some rewriting here:\n",
    "\n",
    "    an_instance.a_method()\n",
    "\n",
    "this is rewritten, silently and behind the scenes, to:\n",
    "\n",
    "    a_class.a_method(an_instance)\n",
    "\n",
    "(this assumes that `a_class` is the class for `an_instance`.    As you can see, the instance is moved into the first argument position, which means that it'll be assigned to `self`."
   ]
  },
  {
   "cell_type": "markdown",
   "metadata": {},
   "source": [
    "# Exercise: Cellphone\n",
    "\n",
    "1. Define a `Cellphone` class. Each instance wil have two attributes:\n",
    "    - `number`\n",
    "    - `model`\n",
    "2. You should be able to invoke the `call` method on your phone. It'll return a string saying, `'Calling...'` and print the number it's calling."
   ]
  },
  {
   "cell_type": "code",
   "execution_count": null,
   "metadata": {},
   "outputs": [],
   "source": []
  }
 ],
 "metadata": {
  "kernelspec": {
   "display_name": "Python 3 (ipykernel)",
   "language": "python",
   "name": "python3"
  },
  "language_info": {
   "codemirror_mode": {
    "name": "ipython",
    "version": 3
   },
   "file_extension": ".py",
   "mimetype": "text/x-python",
   "name": "python",
   "nbconvert_exporter": "python",
   "pygments_lexer": "ipython3",
   "version": "3.13.2"
  }
 },
 "nbformat": 4,
 "nbformat_minor": 4
}
